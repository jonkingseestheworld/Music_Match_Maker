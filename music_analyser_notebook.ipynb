{
 "cells": [
  {
   "cell_type": "markdown",
   "metadata": {},
   "source": [
    "# What my partner would like from my Spotify music choice? \n",
    "## Music Analyzer based on Spotify Streaming Histories and Song Features"
   ]
  },
  {
   "cell_type": "markdown",
   "metadata": {},
   "source": [
    "Back in early July, Spotify introduced a new Premium Duo service. Apart from a (slightly) cheaper monthly average fee for each person with the joint subscription, the two users also have access to a 'Duo Mix' playlist, which supposedly is  updated regularly based on what both users like. So far, my partner absolutely hated most the 'new' songs shown on this new playlist (the 'new' songs would be my contribution based on what I usually listened to). This got me wondering if there are songs I like that may also be favoured by my partner based on his listening habit.  \n",
    "\n",
    "<br> <div>\n",
    "<img src=\"img/spotify_duo.jpg\" width=\"300\" align=\"left\"/>\n",
    "</div>"
   ]
  },
  {
   "cell_type": "markdown",
   "metadata": {},
   "source": [
    "The project here analyzes the streaming histories of my partner and me in the last 12 months, in relation to some metrics of song characteristics that are available from a large collated 'song attributes' database. The database contains 160,000+ songs released in the years between 1921 and early 2020. "
   ]
  },
  {
   "cell_type": "markdown",
   "metadata": {},
   "source": [
    "**The objective** of this project is to build a classifier that can be used to predict what new songs a person may like (and not like) based on their listening histories. "
   ]
  },
  {
   "cell_type": "markdown",
   "metadata": {},
   "source": [
    "### About the Music Data"
   ]
  },
  {
   "cell_type": "markdown",
   "metadata": {},
   "source": [
    "This project uses two sources of data: i) **Spotify audio/track features** (\"song_attributes.csv\") & ii) **personal streaming history on Spotify** (\"xx_StreamingHist.csv\").\n",
    "\n",
    "**'song_attributes.csv'** is a dataset available on Kaggle (https://www.kaggle.com/yamaerenay/spotify-dataset-19212020-160k-tracks; I used the specific file named 'data.csv') (Thanks Yamaç Eren Ay for sharing it publicly). The file contains 19 columns including various song features such as acousticness, danceability, and liveness etc, collected through Spotify Web API. (For more details of these features, check this link: https://developer.spotify.com/documentation/web-api/reference/tracks/get-audio-features/) There are 169,909 rows/entries, with each row representing an individual song. In a separate notebook ([check here](EDA_Song_Attributes_Exploration.ipynb)), I did more exploration on this 'song attributes' data set, for example examining how songs vary in these features across years.\n",
    "\n",
    "The two **'xx_StreamingHist.csv'** contains personal streaming data from partner0 and partner1 (for example, from me and my partner) requested via the Privacy Settings section of the individual Spotify's account pages (https://support.spotify.com/us/article/data-rights-and-privacy-settings/). The data were provided in the json format. There are four columns in the data-file (artistName, trackName, endTime, msPlayed). Partner0's file has 15344 entries/rows and partner1's has 11424 entries.\n",
    "\n",
    "As partner0 has slightly more data (i.e. a long list of listening), partner0's data is used for training the models. The models trained (based on partner0's streaming history) will then be fitted on partner1's data, i.e. to predict what songs from partner1's list that partner0 may like. "
   ]
  },
  {
   "cell_type": "markdown",
   "metadata": {},
   "source": [
    "### Definition of 'Favourite' (vs 'not Favourite') song classes"
   ]
  },
  {
   "cell_type": "markdown",
   "metadata": {},
   "source": [
    "**'Favourite' (1)** and **'not favourite' (0)** songs are defined by the number of listens in the past 12 months. From an exploratory analysis (see histogram below), I found that with an overpowering majority of songs Partner0 only listened to them for less than 5 times last year, and this person quite seldom listened to a song more than 5 times. This is a clear cut-off. \n",
    "\n",
    "Check the section **'What makes a favourite song'** below for more details."
   ]
  },
  {
   "cell_type": "markdown",
   "metadata": {},
   "source": [
    "### Predictive Modelling"
   ]
  },
  {
   "cell_type": "markdown",
   "metadata": {},
   "source": [
    "I will mainly compare the performance of 3 classification models here:   \n",
    "> <b>Nu Support Vector Classifier</b>   \n",
    "  <b>Decision Tree</b>    \n",
    "  <b>Random Forest</b>     \n",
    "  (# Logistic Regression as well for comparison purpose)\n",
    "    \n",
    "Before narrowing down the search for further hyperparameter tuning with these models, I'd also tested a number of other classifiers (e.g. Gaussian Processes, Gradient Boosting, Multilayer Perceptron), the performances of which were not as great. The [scripts](init_model_selection.py) and [outputs](init_outputs.txt) of those initial exploratory attempts are stored in the same repo with this notebook."
   ]
  },
  {
   "cell_type": "markdown",
   "metadata": {},
   "source": [
    "### Evaluation metrics - F1 score"
   ]
  },
  {
   "cell_type": "markdown",
   "metadata": {},
   "source": [
    "When dealing with datasets with a high class imbalance like our case here (there are much fewer 'favourite' songs based on partner0's listening habit), accuracy may not be a reliable measure. The reason is that a high accuracy can be solely/largely contributed by a large number of correctly predicted negatives (i.e. True Negatives) while the positive class could be poorly predicted. In scenarios with heavily imbalanced data, we care equally about precision and recall, and F1 score would be a more preferred evaluation metric.\n",
    "\n",
    "Precision is a measure of the correctly identified positive cases from all the predicted positive cases. It is useful when the costs of False Positives is high. Recall measures the ratio of the correctly identified positive cases to all the actual positive cases. It is important when the cost of False Negatives is high.\n",
    "\n",
    "Then, F1 score is a harmonic mean of Precision and Recall, thus giving more attention to the incorrectly classified cases in general. "
   ]
  },
  {
   "cell_type": "markdown",
   "metadata": {},
   "source": [
    "### Highlights of Results"
   ]
  },
  {
   "cell_type": "markdown",
   "metadata": {},
   "source": [
    "A trained model using a Random Forest Classifier was able to predict unseen test data with a F1 score of 77%, which would be used as the final algorithm for music recommendation to predict what songs partner0 may like in an entirely separate partner1's songlist.   \n",
    "\n",
    "In comparison, Decision Tree Classifier acquired a score of 66% and Nu Support Vector Classifier a very low score of 53%"
   ]
  },
  {
   "cell_type": "markdown",
   "metadata": {},
   "source": [
    "### Reference/Acknowledgement"
   ]
  },
  {
   "cell_type": "markdown",
   "metadata": {},
   "source": [
    "There are different song recommendation algorithms available out there and the one created by [isaclee](https://github.com/isacmlee/song-recommender) that I came across  is really well thought and easily extendable. Do check out check out isaclee's repo. My analysis has extended on his work. I did more [general data exploration](EDA_Song_Attributes_Exploration.ipynb) and trained a wider range of models as [an initial exploratory attempt](init_outputs.txt) at the beginning (before filtering out models with very low performance). "
   ]
  },
  {
   "cell_type": "markdown",
   "metadata": {},
   "source": [
    "## ** Codes start here **"
   ]
  },
  {
   "cell_type": "markdown",
   "metadata": {},
   "source": [
    "### Environment / File Preparation"
   ]
  },
  {
   "cell_type": "code",
   "execution_count": 1,
   "metadata": {},
   "outputs": [],
   "source": [
    "# Import required libraries\n",
    "import pandas as pd\n",
    "import numpy as np\n",
    "import seaborn as sns\n",
    "import matplotlib.pyplot as plt\n",
    "from scipy import stats"
   ]
  },
  {
   "cell_type": "code",
   "execution_count": 2,
   "metadata": {
    "scrolled": false
   },
   "outputs": [
    {
     "data": {
      "text/plain": [
       "((15344, 5), (11424, 5), (169909, 19))"
      ]
     },
     "execution_count": 2,
     "metadata": {},
     "output_type": "execute_result"
    }
   ],
   "source": [
    "# Read in personal Streaming History data\n",
    "def readCSV(data):\n",
    "    return pd.read_csv(data)\n",
    "    \n",
    "SH0_df = readCSV(\"partner0_StreamingHist.csv\") #data from partner0 that will be used for building/training the ML models\n",
    "SH1_df = readCSV(\"partner1_StreamingHist.csv\") #data from partner1 that will be used in final predictions\n",
    "\n",
    "# Read in Song Attributes data\n",
    "df_attr = readCSV(\"song_attributes.csv\")\n",
    "\n",
    "SH0_df.shape, SH1_df.shape, df_attr.shape"
   ]
  },
  {
   "cell_type": "code",
   "execution_count": 3,
   "metadata": {
    "scrolled": true
   },
   "outputs": [],
   "source": [
    "# Some data cleaning \n",
    "# remove some special characters ([,],',\") in the 'artists' column in the 'song attributes' dataset\n",
    "df_attr['artists'] = df_attr['artists'].replace({r'\\[|\\]|\\'|\\\"':''}, regex=True)\n",
    "df_attr = df_attr.rename(columns={'name':'track'})\n",
    "SH0_df = SH0_df.rename(columns={'artistName':'artists', 'trackName':'track'}).drop('Unnamed: 0', axis=1)\n",
    "SH1_df = SH1_df.rename(columns={'artistName':'artists', 'trackName':'track'}).drop('Unnamed: 0', axis=1)\n"
   ]
  },
  {
   "cell_type": "code",
   "execution_count": 4,
   "metadata": {
    "scrolled": true
   },
   "outputs": [
    {
     "data": {
      "text/html": [
       "<div>\n",
       "<style scoped>\n",
       "    .dataframe tbody tr th:only-of-type {\n",
       "        vertical-align: middle;\n",
       "    }\n",
       "\n",
       "    .dataframe tbody tr th {\n",
       "        vertical-align: top;\n",
       "    }\n",
       "\n",
       "    .dataframe thead th {\n",
       "        text-align: right;\n",
       "    }\n",
       "</style>\n",
       "<table border=\"1\" class=\"dataframe\">\n",
       "  <thead>\n",
       "    <tr style=\"text-align: right;\">\n",
       "      <th></th>\n",
       "      <th>endTime</th>\n",
       "      <th>artists</th>\n",
       "      <th>track</th>\n",
       "      <th>msPlayed</th>\n",
       "    </tr>\n",
       "  </thead>\n",
       "  <tbody>\n",
       "    <tr>\n",
       "      <th>0</th>\n",
       "      <td>30/07/2019 13:40</td>\n",
       "      <td>The Blue Nile</td>\n",
       "      <td>Tinseltown in the Rain</td>\n",
       "      <td>306831.0</td>\n",
       "    </tr>\n",
       "    <tr>\n",
       "      <th>1</th>\n",
       "      <td>30/07/2019 14:18</td>\n",
       "      <td>David Gray</td>\n",
       "      <td>Babylon</td>\n",
       "      <td>265666.0</td>\n",
       "    </tr>\n",
       "    <tr>\n",
       "      <th>2</th>\n",
       "      <td>10/12/2019 07:02</td>\n",
       "      <td>David Gray</td>\n",
       "      <td>Babylon</td>\n",
       "      <td>265666.0</td>\n",
       "    </tr>\n",
       "    <tr>\n",
       "      <th>3</th>\n",
       "      <td>01/01/2020 21:54</td>\n",
       "      <td>David Gray</td>\n",
       "      <td>Babylon</td>\n",
       "      <td>1300.0</td>\n",
       "    </tr>\n",
       "    <tr>\n",
       "      <th>4</th>\n",
       "      <td>20/01/2020 09:15</td>\n",
       "      <td>David Gray</td>\n",
       "      <td>Babylon</td>\n",
       "      <td>265666.0</td>\n",
       "    </tr>\n",
       "  </tbody>\n",
       "</table>\n",
       "</div>"
      ],
      "text/plain": [
       "            endTime        artists                   track  msPlayed\n",
       "0  30/07/2019 13:40  The Blue Nile  Tinseltown in the Rain  306831.0\n",
       "1  30/07/2019 14:18     David Gray                 Babylon  265666.0\n",
       "2  10/12/2019 07:02     David Gray                 Babylon  265666.0\n",
       "3  01/01/2020 21:54     David Gray                 Babylon    1300.0\n",
       "4  20/01/2020 09:15     David Gray                 Babylon  265666.0"
      ]
     },
     "execution_count": 4,
     "metadata": {},
     "output_type": "execute_result"
    }
   ],
   "source": [
    "# Shortlist only songs from SH0_df that also have 'song attributes' information\n",
    "sl_df0 = pd.merge(SH0_df, df_attr[['track', 'artists']], how='inner', on=['track', 'artists'])\n",
    "\n",
    "sl_df0.head(5)"
   ]
  },
  {
   "cell_type": "markdown",
   "metadata": {},
   "source": [
    "### Data Exploration"
   ]
  },
  {
   "cell_type": "markdown",
   "metadata": {},
   "source": [
    "#### What makes a favourite song - why set the cut-off at 5 listens? "
   ]
  },
  {
   "cell_type": "markdown",
   "metadata": {},
   "source": [
    "From the histogram below, there is a sudden drop in song frequencies around 5 (listens). It seems that with the majority of songs partner0 would not listen to them for more than 5 times. Using 5 as the cut-off also likely removes songs that partner0 might come across by chance on radios or songs that were randomly suggested by Spotify. \n",
    "\n",
    "Using this cutoff, we label songs with more than 5 listens last year as favourites (class 1) and songs with few listens as not favourites (class 0). "
   ]
  },
  {
   "cell_type": "code",
   "execution_count": 5,
   "metadata": {
    "scrolled": false
   },
   "outputs": [
    {
     "data": {
      "text/plain": [
       "Text(0.5, 1.0, 'Frequency of no. of listens')"
      ]
     },
     "execution_count": 5,
     "metadata": {},
     "output_type": "execute_result"
    },
    {
     "data": {
      "image/png": "[encoded data removed]",
      "text/plain": [
       "<Figure size 432x288 with 1 Axes>"
      ]
     },
     "metadata": {
      "needs_background": "light"
     },
     "output_type": "display_data"
    }
   ],
   "source": [
    "ax=sl_df0.groupby(['track', 'artists'])['track'].count().to_frame('count').reset_index().plot(kind='hist', bins=40, color=\"orange\")\n",
    "ax.set_xlim(0,20)\n",
    "ax.set_title(\"Frequency of no. of listens\")"
   ]
  },
  {
   "cell_type": "markdown",
   "metadata": {},
   "source": [
    "We may also use the total of 'msPlayed' (for each song) as a criterion to define 'favourite' and 'non-favourite' songs. However, songs differ in duration. To take into accounts this confound, we would have to take action, for example, to standardise the 'msPlayed' for each song by dividing it with the actual duration of the song. It is very likely the results after this adjustment would be very similar or comparable to using the number of listens at the end. "
   ]
  },
  {
   "cell_type": "code",
   "execution_count": 12,
   "metadata": {},
   "outputs": [
    {
     "data": {
      "text/html": [
       "<div>\n",
       "<style scoped>\n",
       "    .dataframe tbody tr th:only-of-type {\n",
       "        vertical-align: middle;\n",
       "    }\n",
       "\n",
       "    .dataframe tbody tr th {\n",
       "        vertical-align: top;\n",
       "    }\n",
       "\n",
       "    .dataframe thead th {\n",
       "        text-align: right;\n",
       "    }\n",
       "</style>\n",
       "<table border=\"1\" class=\"dataframe\">\n",
       "  <thead>\n",
       "    <tr style=\"text-align: right;\">\n",
       "      <th></th>\n",
       "      <th>track</th>\n",
       "      <th>artists</th>\n",
       "      <th>count</th>\n",
       "    </tr>\n",
       "  </thead>\n",
       "  <tbody>\n",
       "    <tr>\n",
       "      <th>0</th>\n",
       "      <td>\"45\"</td>\n",
       "      <td>The Gaslight Anthem</td>\n",
       "      <td>1</td>\n",
       "    </tr>\n",
       "    <tr>\n",
       "      <th>1</th>\n",
       "      <td>\"Heroes\" - Live; 2005 Remaster</td>\n",
       "      <td>David Bowie</td>\n",
       "      <td>1</td>\n",
       "    </tr>\n",
       "    <tr>\n",
       "      <th>2</th>\n",
       "      <td>'Helden' - German Version 1989 Remix; 2002 Rem...</td>\n",
       "      <td>David Bowie</td>\n",
       "      <td>12</td>\n",
       "    </tr>\n",
       "    <tr>\n",
       "      <th>3</th>\n",
       "      <td>(Everybody Wanna Get Rich) Rite Away</td>\n",
       "      <td>Dr. John</td>\n",
       "      <td>1</td>\n",
       "    </tr>\n",
       "    <tr>\n",
       "      <th>4</th>\n",
       "      <td>(Feels Like) Heaven</td>\n",
       "      <td>Fiction Factory</td>\n",
       "      <td>2</td>\n",
       "    </tr>\n",
       "    <tr>\n",
       "      <th>5</th>\n",
       "      <td>(I Can't Get No) Satisfaction - Mono Version</td>\n",
       "      <td>The Rolling Stones</td>\n",
       "      <td>4</td>\n",
       "    </tr>\n",
       "    <tr>\n",
       "      <th>6</th>\n",
       "      <td>(Si, Si) Je Suis Un Rock Star</td>\n",
       "      <td>Bill Wyman</td>\n",
       "      <td>2</td>\n",
       "    </tr>\n",
       "    <tr>\n",
       "      <th>7</th>\n",
       "      <td>(Sittin' On) The Dock Of The Bay - Remastered ...</td>\n",
       "      <td>Glen Campbell</td>\n",
       "      <td>4</td>\n",
       "    </tr>\n",
       "    <tr>\n",
       "      <th>8</th>\n",
       "      <td>(You Make Me Feel Like) A Natural Woman</td>\n",
       "      <td>Aretha Franklin</td>\n",
       "      <td>2</td>\n",
       "    </tr>\n",
       "    <tr>\n",
       "      <th>9</th>\n",
       "      <td>(Your Love Keeps Lifting Me) Higher &amp; Higher</td>\n",
       "      <td>Jackie Wilson</td>\n",
       "      <td>2</td>\n",
       "    </tr>\n",
       "  </tbody>\n",
       "</table>\n",
       "</div>"
      ],
      "text/plain": [
       "                                               track              artists  \\\n",
       "0                                               \"45\"  The Gaslight Anthem   \n",
       "1                     \"Heroes\" - Live; 2005 Remaster          David Bowie   \n",
       "2  'Helden' - German Version 1989 Remix; 2002 Rem...          David Bowie   \n",
       "3               (Everybody Wanna Get Rich) Rite Away             Dr. John   \n",
       "4                                (Feels Like) Heaven      Fiction Factory   \n",
       "5       (I Can't Get No) Satisfaction - Mono Version   The Rolling Stones   \n",
       "6                      (Si, Si) Je Suis Un Rock Star           Bill Wyman   \n",
       "7  (Sittin' On) The Dock Of The Bay - Remastered ...        Glen Campbell   \n",
       "8            (You Make Me Feel Like) A Natural Woman      Aretha Franklin   \n",
       "9       (Your Love Keeps Lifting Me) Higher & Higher        Jackie Wilson   \n",
       "\n",
       "   count  \n",
       "0      1  \n",
       "1      1  \n",
       "2     12  \n",
       "3      1  \n",
       "4      2  \n",
       "5      4  \n",
       "6      2  \n",
       "7      4  \n",
       "8      2  \n",
       "9      2  "
      ]
     },
     "execution_count": 12,
     "metadata": {},
     "output_type": "execute_result"
    }
   ],
   "source": [
    "# Count the number of occurences of each song in the shortlisted data\n",
    "df0_freq = sl_df0.groupby(['track', 'artists'])['track'].count().to_frame('count').reset_index()\n",
    "df0_freq.head(10)"
   ]
  },
  {
   "cell_type": "code",
   "execution_count": 13,
   "metadata": {},
   "outputs": [
    {
     "data": {
      "text/html": [
       "<div>\n",
       "<style scoped>\n",
       "    .dataframe tbody tr th:only-of-type {\n",
       "        vertical-align: middle;\n",
       "    }\n",
       "\n",
       "    .dataframe tbody tr th {\n",
       "        vertical-align: top;\n",
       "    }\n",
       "\n",
       "    .dataframe thead th {\n",
       "        text-align: right;\n",
       "    }\n",
       "</style>\n",
       "<table border=\"1\" class=\"dataframe\">\n",
       "  <thead>\n",
       "    <tr style=\"text-align: right;\">\n",
       "      <th></th>\n",
       "      <th>track</th>\n",
       "      <th>artists</th>\n",
       "      <th>count</th>\n",
       "    </tr>\n",
       "  </thead>\n",
       "  <tbody>\n",
       "    <tr>\n",
       "      <th>2026</th>\n",
       "      <td>You Can Call Me Al</td>\n",
       "      <td>Paul Simon</td>\n",
       "      <td>8</td>\n",
       "    </tr>\n",
       "    <tr>\n",
       "      <th>2028</th>\n",
       "      <td>You Can't Hurry Love - 2016 Remaster</td>\n",
       "      <td>Phil Collins</td>\n",
       "      <td>46</td>\n",
       "    </tr>\n",
       "    <tr>\n",
       "      <th>2042</th>\n",
       "      <td>You Make My Dreams (Come True)</td>\n",
       "      <td>Daryl Hall &amp; John Oates</td>\n",
       "      <td>10</td>\n",
       "    </tr>\n",
       "    <tr>\n",
       "      <th>2072</th>\n",
       "      <td>Your Song</td>\n",
       "      <td>Elton John</td>\n",
       "      <td>6</td>\n",
       "    </tr>\n",
       "    <tr>\n",
       "      <th>2079</th>\n",
       "      <td>bad guy</td>\n",
       "      <td>Billie Eilish</td>\n",
       "      <td>41</td>\n",
       "    </tr>\n",
       "  </tbody>\n",
       "</table>\n",
       "</div>"
      ],
      "text/plain": [
       "                                     track                  artists  count\n",
       "2026                    You Can Call Me Al               Paul Simon      8\n",
       "2028  You Can't Hurry Love - 2016 Remaster             Phil Collins     46\n",
       "2042        You Make My Dreams (Come True)  Daryl Hall & John Oates     10\n",
       "2072                             Your Song               Elton John      6\n",
       "2079                               bad guy            Billie Eilish     41"
      ]
     },
     "execution_count": 13,
     "metadata": {},
     "output_type": "execute_result"
    }
   ],
   "source": [
    "# Some examples of songs that have 5 or more occurrences/listens in the previous year\n",
    "df0_freq[df0_freq['count'] >= 5].tail(5)"
   ]
  },
  {
   "cell_type": "code",
   "execution_count": 14,
   "metadata": {},
   "outputs": [],
   "source": [
    "# Save songs with 5 or more listens as 1 ('favourite')\n",
    "df0_freq['favourite'] = np.where(df0_freq['count'] >= 5, 1, 0)\n",
    "df0_freq = df0_freq.drop('count', axis=1)"
   ]
  },
  {
   "cell_type": "code",
   "execution_count": 15,
   "metadata": {
    "scrolled": true
   },
   "outputs": [
    {
     "data": {
      "text/html": [
       "<div>\n",
       "<style scoped>\n",
       "    .dataframe tbody tr th:only-of-type {\n",
       "        vertical-align: middle;\n",
       "    }\n",
       "\n",
       "    .dataframe tbody tr th {\n",
       "        vertical-align: top;\n",
       "    }\n",
       "\n",
       "    .dataframe thead th {\n",
       "        text-align: right;\n",
       "    }\n",
       "</style>\n",
       "<table border=\"1\" class=\"dataframe\">\n",
       "  <thead>\n",
       "    <tr style=\"text-align: right;\">\n",
       "      <th></th>\n",
       "      <th>track</th>\n",
       "      <th>artists</th>\n",
       "      <th>favourite</th>\n",
       "      <th>acousticness</th>\n",
       "      <th>danceability</th>\n",
       "      <th>duration_ms</th>\n",
       "      <th>energy</th>\n",
       "      <th>instrumentalness</th>\n",
       "      <th>liveness</th>\n",
       "      <th>loudness</th>\n",
       "      <th>popularity</th>\n",
       "      <th>speechiness</th>\n",
       "      <th>tempo</th>\n",
       "      <th>valence</th>\n",
       "    </tr>\n",
       "  </thead>\n",
       "  <tbody>\n",
       "    <tr>\n",
       "      <th>0</th>\n",
       "      <td>\"45\"</td>\n",
       "      <td>The Gaslight Anthem</td>\n",
       "      <td>0</td>\n",
       "      <td>0.000696</td>\n",
       "      <td>0.315</td>\n",
       "      <td>202493</td>\n",
       "      <td>0.970</td>\n",
       "      <td>0.00000</td>\n",
       "      <td>0.2770</td>\n",
       "      <td>-4.709</td>\n",
       "      <td>48</td>\n",
       "      <td>0.1020</td>\n",
       "      <td>178.068</td>\n",
       "      <td>0.423</td>\n",
       "    </tr>\n",
       "    <tr>\n",
       "      <th>1</th>\n",
       "      <td>\"Heroes\" - Live; 2005 Remaster</td>\n",
       "      <td>David Bowie</td>\n",
       "      <td>0</td>\n",
       "      <td>0.028800</td>\n",
       "      <td>0.489</td>\n",
       "      <td>374533</td>\n",
       "      <td>0.814</td>\n",
       "      <td>0.02100</td>\n",
       "      <td>0.8010</td>\n",
       "      <td>-7.705</td>\n",
       "      <td>30</td>\n",
       "      <td>0.0323</td>\n",
       "      <td>114.211</td>\n",
       "      <td>0.738</td>\n",
       "    </tr>\n",
       "    <tr>\n",
       "      <th>2</th>\n",
       "      <td>'Helden' - German Version 1989 Remix; 2002 Rem...</td>\n",
       "      <td>David Bowie</td>\n",
       "      <td>1</td>\n",
       "      <td>0.000085</td>\n",
       "      <td>0.444</td>\n",
       "      <td>220707</td>\n",
       "      <td>0.674</td>\n",
       "      <td>0.25400</td>\n",
       "      <td>0.1160</td>\n",
       "      <td>-7.791</td>\n",
       "      <td>49</td>\n",
       "      <td>0.0298</td>\n",
       "      <td>112.459</td>\n",
       "      <td>0.485</td>\n",
       "    </tr>\n",
       "    <tr>\n",
       "      <th>3</th>\n",
       "      <td>(Everybody Wanna Get Rich) Rite Away</td>\n",
       "      <td>Dr. John</td>\n",
       "      <td>0</td>\n",
       "      <td>0.518000</td>\n",
       "      <td>0.746</td>\n",
       "      <td>163933</td>\n",
       "      <td>0.916</td>\n",
       "      <td>0.06860</td>\n",
       "      <td>0.0785</td>\n",
       "      <td>-10.061</td>\n",
       "      <td>53</td>\n",
       "      <td>0.0772</td>\n",
       "      <td>99.926</td>\n",
       "      <td>0.971</td>\n",
       "    </tr>\n",
       "    <tr>\n",
       "      <th>4</th>\n",
       "      <td>(Feels Like) Heaven</td>\n",
       "      <td>Fiction Factory</td>\n",
       "      <td>0</td>\n",
       "      <td>0.198000</td>\n",
       "      <td>0.542</td>\n",
       "      <td>214047</td>\n",
       "      <td>0.820</td>\n",
       "      <td>0.00172</td>\n",
       "      <td>0.0497</td>\n",
       "      <td>-10.982</td>\n",
       "      <td>45</td>\n",
       "      <td>0.0512</td>\n",
       "      <td>116.666</td>\n",
       "      <td>0.762</td>\n",
       "    </tr>\n",
       "  </tbody>\n",
       "</table>\n",
       "</div>"
      ],
      "text/plain": [
       "                                               track              artists  \\\n",
       "0                                               \"45\"  The Gaslight Anthem   \n",
       "1                     \"Heroes\" - Live; 2005 Remaster          David Bowie   \n",
       "2  'Helden' - German Version 1989 Remix; 2002 Rem...          David Bowie   \n",
       "3               (Everybody Wanna Get Rich) Rite Away             Dr. John   \n",
       "4                                (Feels Like) Heaven      Fiction Factory   \n",
       "\n",
       "   favourite  acousticness  danceability  duration_ms  energy  \\\n",
       "0          0      0.000696         0.315       202493   0.970   \n",
       "1          0      0.028800         0.489       374533   0.814   \n",
       "2          1      0.000085         0.444       220707   0.674   \n",
       "3          0      0.518000         0.746       163933   0.916   \n",
       "4          0      0.198000         0.542       214047   0.820   \n",
       "\n",
       "   instrumentalness  liveness  loudness  popularity  speechiness    tempo  \\\n",
       "0           0.00000    0.2770    -4.709          48       0.1020  178.068   \n",
       "1           0.02100    0.8010    -7.705          30       0.0323  114.211   \n",
       "2           0.25400    0.1160    -7.791          49       0.0298  112.459   \n",
       "3           0.06860    0.0785   -10.061          53       0.0772   99.926   \n",
       "4           0.00172    0.0497   -10.982          45       0.0512  116.666   \n",
       "\n",
       "   valence  \n",
       "0    0.423  \n",
       "1    0.738  \n",
       "2    0.485  \n",
       "3    0.971  \n",
       "4    0.762  "
      ]
     },
     "execution_count": 15,
     "metadata": {},
     "output_type": "execute_result"
    }
   ],
   "source": [
    "# merging 'favourite' column into the 'song attributes' datafile (this returns only songs that parter0 had listened to in the previous year)\n",
    "df0 = pd.merge(df0_freq, df_attr, how='inner', on=['track', 'artists'])\n",
    "df0.drop(columns = ['id', 'key', 'mode', 'release_date', \"explicit\", \"year\"], inplace=True)\n",
    "df0.head(5)\n"
   ]
  },
  {
   "cell_type": "markdown",
   "metadata": {},
   "source": [
    "### Exploration of Song Feature data\n",
    "(before diving into model building)"
   ]
  },
  {
   "cell_type": "code",
   "execution_count": 16,
   "metadata": {
    "scrolled": true
   },
   "outputs": [
    {
     "data": {
      "image/png": "[encoded data removed]",
      "text/plain": [
       "<Figure size 1728x864 with 11 Axes>"
      ]
     },
     "metadata": {
      "needs_background": "light"
     },
     "output_type": "display_data"
    }
   ],
   "source": [
    "## plot histograms for continuous variables\n",
    "\n",
    "def dist_plot(feature, i, kde_color, hist_color):\n",
    "    '''\n",
    "    this function plots a histogram using seaborns.displot\n",
    "    feature: column name of an attribute\n",
    "    i: which subplot to overlay on\n",
    "    kde_color: colour of the kernel desnsity estimation curve\n",
    "    hist_color: colour of the histogram bars\n",
    "    '''\n",
    "    sns.distplot(df0[feature], kde=True, ax=ax[i//2, i%2],\n",
    "                kde_kws={\"color\": kde_color, \"lw\":2}, color = hist_color).set_xlabel(feature)\n",
    "\n",
    "\n",
    "fig, ax = plt.subplots(6, 2, figsize=(24,12))\n",
    "\n",
    "kde_color = \"black\"\n",
    "hist_color = \"g\"\n",
    "\n",
    "col2check = [\"acousticness\", \"danceability\", \"duration_ms\", \"energy\", \"instrumentalness\", \"liveness\", \"loudness\", \n",
    "             \"popularity\", \"speechiness\", \"tempo\", \"valence\"]\n",
    "\n",
    "\n",
    "for i, column in enumerate(col2check):\n",
    "    dist_plot(column, i, kde_color, hist_color) \n",
    "\n",
    "fig.suptitle('Variabilities in features', fontsize = 15)\n",
    "\n",
    "# make the subplots not overlap with each other...\n",
    "fig.subplots_adjust(hspace=1.5)\n",
    "\n",
    "fig.delaxes(ax[5,1])\n",
    "\n"
   ]
  },
  {
   "cell_type": "markdown",
   "metadata": {},
   "source": [
    "From the series of plots above, looks like Partner0's song list has a very small variability in the feature 'Instrumentalness' (check the descriptive stat summary table below as well). Instrumentalness may not be a very useful feature but in the current round of model building let's just keep it for the time being. "
   ]
  },
  {
   "cell_type": "code",
   "execution_count": 17,
   "metadata": {
    "scrolled": false
   },
   "outputs": [
    {
     "data": {
      "text/html": [
       "<div>\n",
       "<style scoped>\n",
       "    .dataframe tbody tr th:only-of-type {\n",
       "        vertical-align: middle;\n",
       "    }\n",
       "\n",
       "    .dataframe tbody tr th {\n",
       "        vertical-align: top;\n",
       "    }\n",
       "\n",
       "    .dataframe thead th {\n",
       "        text-align: right;\n",
       "    }\n",
       "</style>\n",
       "<table border=\"1\" class=\"dataframe\">\n",
       "  <thead>\n",
       "    <tr style=\"text-align: right;\">\n",
       "      <th></th>\n",
       "      <th>acousticness</th>\n",
       "      <th>danceability</th>\n",
       "      <th>duration_ms</th>\n",
       "      <th>energy</th>\n",
       "      <th>instrumentalness</th>\n",
       "      <th>liveness</th>\n",
       "      <th>loudness</th>\n",
       "      <th>popularity</th>\n",
       "      <th>speechiness</th>\n",
       "      <th>tempo</th>\n",
       "      <th>valence</th>\n",
       "    </tr>\n",
       "  </thead>\n",
       "  <tbody>\n",
       "    <tr>\n",
       "      <th>count</th>\n",
       "      <td>2772.000000</td>\n",
       "      <td>2772.000000</td>\n",
       "      <td>2772.000000</td>\n",
       "      <td>2772.000000</td>\n",
       "      <td>2772.000000</td>\n",
       "      <td>2772.000000</td>\n",
       "      <td>2772.000000</td>\n",
       "      <td>2772.000000</td>\n",
       "      <td>2772.000000</td>\n",
       "      <td>2772.000000</td>\n",
       "      <td>2772.000000</td>\n",
       "    </tr>\n",
       "    <tr>\n",
       "      <th>mean</th>\n",
       "      <td>0.260327</td>\n",
       "      <td>0.598151</td>\n",
       "      <td>233332.185786</td>\n",
       "      <td>0.622921</td>\n",
       "      <td>0.073404</td>\n",
       "      <td>0.172302</td>\n",
       "      <td>-8.616876</td>\n",
       "      <td>58.820707</td>\n",
       "      <td>0.059868</td>\n",
       "      <td>119.488791</td>\n",
       "      <td>0.567462</td>\n",
       "    </tr>\n",
       "    <tr>\n",
       "      <th>std</th>\n",
       "      <td>0.285591</td>\n",
       "      <td>0.162886</td>\n",
       "      <td>61090.640191</td>\n",
       "      <td>0.218438</td>\n",
       "      <td>0.214385</td>\n",
       "      <td>0.145347</td>\n",
       "      <td>4.769407</td>\n",
       "      <td>14.823804</td>\n",
       "      <td>0.057209</td>\n",
       "      <td>26.882853</td>\n",
       "      <td>0.251753</td>\n",
       "    </tr>\n",
       "    <tr>\n",
       "      <th>min</th>\n",
       "      <td>0.000002</td>\n",
       "      <td>0.056900</td>\n",
       "      <td>77213.000000</td>\n",
       "      <td>0.001690</td>\n",
       "      <td>0.000000</td>\n",
       "      <td>0.019300</td>\n",
       "      <td>-38.480000</td>\n",
       "      <td>0.000000</td>\n",
       "      <td>0.022400</td>\n",
       "      <td>43.513000</td>\n",
       "      <td>0.000010</td>\n",
       "    </tr>\n",
       "    <tr>\n",
       "      <th>25%</th>\n",
       "      <td>0.031925</td>\n",
       "      <td>0.497000</td>\n",
       "      <td>195796.750000</td>\n",
       "      <td>0.484000</td>\n",
       "      <td>0.000000</td>\n",
       "      <td>0.088175</td>\n",
       "      <td>-10.642500</td>\n",
       "      <td>50.000000</td>\n",
       "      <td>0.032100</td>\n",
       "      <td>100.050250</td>\n",
       "      <td>0.369000</td>\n",
       "    </tr>\n",
       "    <tr>\n",
       "      <th>50%</th>\n",
       "      <td>0.140500</td>\n",
       "      <td>0.618000</td>\n",
       "      <td>223166.500000</td>\n",
       "      <td>0.652000</td>\n",
       "      <td>0.000034</td>\n",
       "      <td>0.116000</td>\n",
       "      <td>-7.502500</td>\n",
       "      <td>61.000000</td>\n",
       "      <td>0.040700</td>\n",
       "      <td>117.934000</td>\n",
       "      <td>0.576000</td>\n",
       "    </tr>\n",
       "    <tr>\n",
       "      <th>75%</th>\n",
       "      <td>0.422250</td>\n",
       "      <td>0.713000</td>\n",
       "      <td>260759.750000</td>\n",
       "      <td>0.797000</td>\n",
       "      <td>0.004395</td>\n",
       "      <td>0.206250</td>\n",
       "      <td>-5.434250</td>\n",
       "      <td>69.000000</td>\n",
       "      <td>0.060700</td>\n",
       "      <td>133.124250</td>\n",
       "      <td>0.782000</td>\n",
       "    </tr>\n",
       "    <tr>\n",
       "      <th>max</th>\n",
       "      <td>0.996000</td>\n",
       "      <td>0.968000</td>\n",
       "      <td>865000.000000</td>\n",
       "      <td>1.000000</td>\n",
       "      <td>0.996000</td>\n",
       "      <td>0.996000</td>\n",
       "      <td>-1.101000</td>\n",
       "      <td>100.000000</td>\n",
       "      <td>0.567000</td>\n",
       "      <td>210.164000</td>\n",
       "      <td>0.985000</td>\n",
       "    </tr>\n",
       "  </tbody>\n",
       "</table>\n",
       "</div>"
      ],
      "text/plain": [
       "       acousticness  danceability    duration_ms       energy  \\\n",
       "count   2772.000000   2772.000000    2772.000000  2772.000000   \n",
       "mean       0.260327      0.598151  233332.185786     0.622921   \n",
       "std        0.285591      0.162886   61090.640191     0.218438   \n",
       "min        0.000002      0.056900   77213.000000     0.001690   \n",
       "25%        0.031925      0.497000  195796.750000     0.484000   \n",
       "50%        0.140500      0.618000  223166.500000     0.652000   \n",
       "75%        0.422250      0.713000  260759.750000     0.797000   \n",
       "max        0.996000      0.968000  865000.000000     1.000000   \n",
       "\n",
       "       instrumentalness     liveness     loudness   popularity  speechiness  \\\n",
       "count       2772.000000  2772.000000  2772.000000  2772.000000  2772.000000   \n",
       "mean           0.073404     0.172302    -8.616876    58.820707     0.059868   \n",
       "std            0.214385     0.145347     4.769407    14.823804     0.057209   \n",
       "min            0.000000     0.019300   -38.480000     0.000000     0.022400   \n",
       "25%            0.000000     0.088175   -10.642500    50.000000     0.032100   \n",
       "50%            0.000034     0.116000    -7.502500    61.000000     0.040700   \n",
       "75%            0.004395     0.206250    -5.434250    69.000000     0.060700   \n",
       "max            0.996000     0.996000    -1.101000   100.000000     0.567000   \n",
       "\n",
       "             tempo      valence  \n",
       "count  2772.000000  2772.000000  \n",
       "mean    119.488791     0.567462  \n",
       "std      26.882853     0.251753  \n",
       "min      43.513000     0.000010  \n",
       "25%     100.050250     0.369000  \n",
       "50%     117.934000     0.576000  \n",
       "75%     133.124250     0.782000  \n",
       "max     210.164000     0.985000  "
      ]
     },
     "execution_count": 17,
     "metadata": {},
     "output_type": "execute_result"
    }
   ],
   "source": [
    "df0[col2check].describe()"
   ]
  },
  {
   "cell_type": "markdown",
   "metadata": {},
   "source": [
    "The correlation matrix below shows that there isn't much linear association between any recorded song features and the 'favourite/not-favourite' classes. A model based on the linear relationship may not be very useful. "
   ]
  },
  {
   "cell_type": "code",
   "execution_count": 18,
   "metadata": {
    "scrolled": true
   },
   "outputs": [
    {
     "data": {
      "image/png": "[encoded data removed]",
      "text/plain": [
       "<Figure size 1080x576 with 2 Axes>"
      ]
     },
     "metadata": {
      "needs_background": "light"
     },
     "output_type": "display_data"
    }
   ],
   "source": [
    "# Correlation matrix of Song Features\n",
    "plt.figure(figsize=(15,8))\n",
    "c = df0.drop(columns = [\"track\", \"artists\"]).corr()\n",
    "corr = sns.heatmap(c, cmap=\"BrBG\", annot=True)\n"
   ]
  },
  {
   "cell_type": "markdown",
   "metadata": {},
   "source": [
    "### Model Selection (Cross-validation and Hyperparameter Tuning)"
   ]
  },
  {
   "cell_type": "markdown",
   "metadata": {},
   "source": [
    "I will mainly compare the performance of 3 classification models here:\n",
    "\n",
    "> <b>Nu Support Vector Classifier</b>   \n",
    "  <b>Decision Tree</b>    \n",
    "  <b>Random Forest</b>    \n",
    "  (Logistic Regression for comparison purpose)\n",
    "\n",
    "Before shortlisting these classification models for further hyperparameter tuning, I'd also tested a number of other models exploratively. The [scripts](init_model_selection.py) and [outputs](init_outputs.txt) of these exploratory attempts can be found in the same repo. "
   ]
  },
  {
   "cell_type": "code",
   "execution_count": 19,
   "metadata": {},
   "outputs": [],
   "source": [
    "# Importing required libraries\n",
    "\n",
    "from imblearn.over_sampling import SMOTE\n",
    "\n",
    "import sklearn\n",
    "from sklearn.pipeline import Pipeline\n",
    "from sklearn.preprocessing import MinMaxScaler\n",
    "\n",
    "from sklearn.model_selection import cross_val_score, train_test_split, GridSearchCV\n",
    "from sklearn.metrics import f1_score, precision_score, recall_score, plot_confusion_matrix\n",
    "\n",
    "# Models\n",
    "from sklearn.linear_model import LogisticRegression \n",
    "from sklearn.ensemble import RandomForestClassifier\n",
    "from sklearn.tree import DecisionTreeClassifier\n",
    "from sklearn.svm import NuSVC\n"
   ]
  },
  {
   "cell_type": "code",
   "execution_count": 20,
   "metadata": {},
   "outputs": [],
   "source": [
    "# Split Data into Train sets and Test sets\n",
    "X_train, X_test, y_train, y_test = train_test_split(df0.drop(columns=[\"track\", \"artists\", \"favourite\"]), df0[\"favourite\"], test_size=.20, random_state=40)"
   ]
  },
  {
   "cell_type": "markdown",
   "metadata": {},
   "source": [
    "#### Balancing Classes with SMOTE (Oversampling approach) on continuous variables"
   ]
  },
  {
   "cell_type": "code",
   "execution_count": 21,
   "metadata": {},
   "outputs": [
    {
     "data": {
      "text/plain": [
       "0    1847\n",
       "1     370\n",
       "Name: favourite, dtype: int64"
      ]
     },
     "execution_count": 21,
     "metadata": {},
     "output_type": "execute_result"
    }
   ],
   "source": [
    "y_train.value_counts()"
   ]
  },
  {
   "cell_type": "markdown",
   "metadata": {},
   "source": [
    "The classes (1: 'favourite' vs 0: 'not-favourite') are quite imbalanced in our case. The models will predict most songs as the majority class (i.e., 0) if no adjustment is done, and this will affect the interpretation of model performance. There are some tactics we can use to potentially alleviate this problem.  \n",
    "\n",
    "For more information, this is a good post on the issue of 'Imbalanced Classes in Machine Learning Dataset'. https://machinelearningmastery.com/tactics-to-combat-imbalanced-classes-in-your-machine-learning-dataset/\n",
    "\n",
    "Here, we are using the SMOTE oversampling approach to generate synthetic samples and as a result we wll have more (and different) data. SMOTE creates synthetic samples by randomly sampling the attributes from instances in the minority class (instead of creating copies). SMOTE stands for Synthetic Minority Over-sampling Technique. "
   ]
  },
  {
   "cell_type": "code",
   "execution_count": 22,
   "metadata": {},
   "outputs": [],
   "source": [
    "# Apply SMOTE\n",
    "# again to prevent data leakage into Test set, it's important to split the data before applying SMOTE\n",
    "\n",
    "X_trainS, y_trainS = SMOTE().fit_resample(X_train, y_train)\n",
    "X_testS, y_testS = SMOTE().fit_resample(X_test, y_test)\n",
    "\n",
    "\n",
    "# Also, many machine learning algorithms perform better when numerical input variables are scaled to a standard range.\n",
    "# This is especially relevant for algorithms that fit a model using a weighted sum of inputs, such as linear regression, logistic regression,\n",
    "# as well as algorithms that use distance measures like k-nearest neighbours.\n",
    "# To prevent data leakage into Test set, transformation (rescaling) is first learnt and done with Train set before applying it onto the Test set\n",
    "\n",
    "mmscaler = MinMaxScaler()\n",
    "\n"
   ]
  },
  {
   "cell_type": "markdown",
   "metadata": {},
   "source": [
    "For each model below, cross-validation is used to see how well each model generalises and obtains a F1 score."
   ]
  },
  {
   "cell_type": "markdown",
   "metadata": {},
   "source": [
    "### Logistic Regression (for comparison)"
   ]
  },
  {
   "cell_type": "markdown",
   "metadata": {},
   "source": [
    "As speculated according to the correlation matrix above, a model using an algorithm based on (generalised) linear relationships such as logistic regression isn't too useful in our case (The F1 scores for predicting train data and unseen test data are both very close to 50% - see below)"
   ]
  },
  {
   "cell_type": "code",
   "execution_count": 23,
   "metadata": {},
   "outputs": [
    {
     "name": "stderr",
     "output_type": "stream",
     "text": [
      "[Parallel(n_jobs=-1)]: Using backend LokyBackend with 4 concurrent workers.\n"
     ]
    },
    {
     "name": "stdout",
     "output_type": "stream",
     "text": [
      "All scores in CV for Train data:  [0.54301075 0.49456522 0.50828729 0.55466667 0.5483871  0.54246575\n",
      " 0.53781513 0.53908356 0.57217848 0.53296703] \n",
      " Mean F1 score for Train data:  0.5373426974421899\n",
      "F1 score for unseen Test data:  0.5517970401691332\n"
     ]
    },
    {
     "name": "stderr",
     "output_type": "stream",
     "text": [
      "[Parallel(n_jobs=-1)]: Done  10 out of  10 | elapsed:    3.6s finished\n"
     ]
    }
   ],
   "source": [
    "# Logistic Regression\n",
    "\n",
    "lr = Pipeline(steps=[('mmscaler', mmscaler), ('classifier', LogisticRegression(max_iter=1000, random_state=13))])\n",
    "lr_scores = cross_val_score(lr, X_trainS, y_trainS, cv=10, scoring=\"f1\", n_jobs=-1, verbose=2)\n",
    "\n",
    "print('All scores in CV for Train data: ', lr_scores, '\\n', \n",
    "      'Mean F1 score for Train data: ', np.mean(lr_scores))\n",
    "\n",
    "# Testing Logistic Regression model with the unseen Test set\n",
    "lr.fit(X_trainS, y_trainS)\n",
    "y_pred = lr.predict(X_testS)\n",
    "print('F1 score for unseen Test data: ', f1_score(y_testS, y_pred))\n"
   ]
  },
  {
   "cell_type": "markdown",
   "metadata": {},
   "source": [
    "### Nu Support Vector Classifier"
   ]
  },
  {
   "cell_type": "code",
   "execution_count": 24,
   "metadata": {},
   "outputs": [
    {
     "name": "stdout",
     "output_type": "stream",
     "text": [
      "Fitting 5 folds for each of 40 candidates, totalling 200 fits\n"
     ]
    },
    {
     "name": "stderr",
     "output_type": "stream",
     "text": [
      "[Parallel(n_jobs=-1)]: Using backend LokyBackend with 4 concurrent workers.\n",
      "[Parallel(n_jobs=-1)]: Done  33 tasks      | elapsed:   17.1s\n",
      "[Parallel(n_jobs=-1)]: Done 154 tasks      | elapsed:  1.3min\n",
      "[Parallel(n_jobs=-1)]: Done 200 out of 200 | elapsed:  1.7min finished\n"
     ]
    },
    {
     "data": {
      "text/plain": [
       "{'gamma': 50, 'nu': 0.1, 'probability': True}"
      ]
     },
     "execution_count": 24,
     "metadata": {},
     "output_type": "execute_result"
    }
   ],
   "source": [
    "# Hyperparameter optimization of NuSVC classification\n",
    "\n",
    "parameters = {\n",
    "    'nu':[0.001, 0.005, 0.1, 0.25, 0.5],    #tested [0.9]\n",
    "    'gamma': [20, 50, 100, 150],  #for rbf, test [1, 5, 10,]\n",
    "    'probability': [True, False]\n",
    "}\n",
    "\n",
    "svcv = Pipeline(steps=[('mmscaler', mmscaler), ('CV', GridSearchCV(NuSVC(random_state=13), parameters, cv = 5, scoring=\"f1\", n_jobs=-1, verbose=2))])\n",
    "\n",
    "svcv.fit(X_trainS, y_trainS)\n",
    "svcv.named_steps['CV'].best_params_"
   ]
  },
  {
   "cell_type": "code",
   "execution_count": 25,
   "metadata": {},
   "outputs": [
    {
     "name": "stderr",
     "output_type": "stream",
     "text": [
      "[Parallel(n_jobs=-1)]: Using backend LokyBackend with 4 concurrent workers.\n",
      "[Parallel(n_jobs=-1)]: Done  10 out of  10 | elapsed:   18.7s finished\n"
     ]
    },
    {
     "name": "stdout",
     "output_type": "stream",
     "text": [
      "All scores in CV for Train data:  [0.87052342 0.88767123 0.90410959 0.8839779  0.86363636 0.90217391\n",
      " 0.87640449 0.86592179 0.86908078 0.86350975] \n",
      " Mean F1 score for Train data:  0.8787009226467528\n",
      "F1 score for unseen Test data:  0.5288035450516987\n"
     ]
    }
   ],
   "source": [
    "# Fine-tuned NuSVC Pipeline\n",
    "\n",
    "nusvc = Pipeline(steps=[('mmscaler', mmscaler), ('classifier', NuSVC(random_state=13, gamma=50, nu=0.1, probability=True))])\n",
    "\n",
    "nusvc_scores = cross_val_score(nusvc, X_trainS, y_trainS, cv=10, scoring=\"f1\", n_jobs=-1, verbose=2)\n",
    "\n",
    "\n",
    "print('All scores in CV for Train data: ', nusvc_scores, '\\n', \n",
    "      'Mean F1 score for Train data: ', np.mean(nusvc_scores))\n",
    "\n",
    "# Testing NuSVC model with the unseen Test set\n",
    "nusvc.fit(X_trainS, y_trainS)\n",
    "y_pred = nusvc.predict(X_testS)\n",
    "print('F1 score for unseen Test data: ', f1_score(y_testS, y_pred))"
   ]
  },
  {
   "cell_type": "markdown",
   "metadata": {},
   "source": [
    "### Decision Tree"
   ]
  },
  {
   "cell_type": "code",
   "execution_count": 26,
   "metadata": {},
   "outputs": [
    {
     "data": {
      "text/plain": [
       "{'max_depth': 50}"
      ]
     },
     "execution_count": 26,
     "metadata": {},
     "output_type": "execute_result"
    }
   ],
   "source": [
    "# Hyperparameter optimization for Decision Tree Classifier\n",
    "parameters = {\n",
    "    'max_depth':[5, 10, 15, 20, 30, 50, 100],    #tested also 200, 500\n",
    "}\n",
    "\n",
    "dtc = Pipeline(steps=[('mmscaler', mmscaler), ('CV', GridSearchCV(DecisionTreeClassifier(random_state=13), parameters, cv = 5, scoring=\"f1\"))])\n",
    "\n",
    "dtc.fit(X_trainS, y_trainS)\n",
    "dtc.named_steps['CV'].best_params_"
   ]
  },
  {
   "cell_type": "code",
   "execution_count": 27,
   "metadata": {},
   "outputs": [
    {
     "name": "stderr",
     "output_type": "stream",
     "text": [
      "[Parallel(n_jobs=-1)]: Using backend LokyBackend with 4 concurrent workers.\n"
     ]
    },
    {
     "name": "stdout",
     "output_type": "stream",
     "text": [
      "All scores in CV for Train data:  [0.73130194 0.70718232 0.84155844 0.82506527 0.81725888 0.83769634\n",
      " 0.796875   0.82474227 0.78772379 0.78481013] \n",
      " Mean F1 score for Train data:  0.795421437332706\n",
      "F1 score for unseen Test data:  0.6635514018691588\n"
     ]
    },
    {
     "name": "stderr",
     "output_type": "stream",
     "text": [
      "[Parallel(n_jobs=-1)]: Done  10 out of  10 | elapsed:    0.5s finished\n"
     ]
    }
   ],
   "source": [
    "# Fine-tuned Decision Tree Pipeline\n",
    "\n",
    "dt = Pipeline(steps=[('mmscaler', mmscaler), ('classifier', DecisionTreeClassifier(max_depth=50, random_state=13))])\n",
    "dt_scores = cross_val_score(dt, X_trainS, y_trainS, cv=10, scoring=\"f1\", n_jobs=-1, verbose=2)\n",
    "\n",
    "print('All scores in CV for Train data: ', dt_scores, '\\n', \n",
    "      'Mean F1 score for Train data: ', np.mean(dt_scores))\n",
    "\n",
    "# Testing Decision Tree model with the unseen Test set\n",
    "dt.fit(X_trainS, y_trainS)\n",
    "y_pred = dt.predict(X_testS)\n",
    "print('F1 score for unseen Test data: ', f1_score(y_testS, y_pred))\n"
   ]
  },
  {
   "cell_type": "markdown",
   "metadata": {},
   "source": [
    "### Random Forest"
   ]
  },
  {
   "cell_type": "code",
   "execution_count": 28,
   "metadata": {},
   "outputs": [
    {
     "data": {
      "text/plain": [
       "{'max_depth': 30, 'n_estimators': 150}"
      ]
     },
     "execution_count": 28,
     "metadata": {},
     "output_type": "execute_result"
    }
   ],
   "source": [
    "# Hyperparameter optimization of Random Forest Classifier\n",
    "parameters = {\n",
    "    'max_depth':[20, 30, 50, 100],  #tried [10, 15,20,]\n",
    "    'n_estimators':[30, 100, 150, 200]  #tried also [15, 30, 35, 40, 50,]\n",
    "}\n",
    "\n",
    "rfc = Pipeline(steps=[('mmscaler', mmscaler), ('CV', GridSearchCV(RandomForestClassifier(random_state=13), parameters, cv = 5, scoring=\"f1\"))])\n",
    "\n",
    "rfc.fit(X_trainS, y_trainS)\n",
    "rfc.named_steps['CV'].best_params_"
   ]
  },
  {
   "cell_type": "code",
   "execution_count": 39,
   "metadata": {
    "scrolled": true
   },
   "outputs": [
    {
     "name": "stderr",
     "output_type": "stream",
     "text": [
      "[Parallel(n_jobs=-1)]: Using backend LokyBackend with 4 concurrent workers.\n",
      "[Parallel(n_jobs=-1)]: Done  10 out of  10 | elapsed:    7.2s finished\n"
     ]
    },
    {
     "name": "stdout",
     "output_type": "stream",
     "text": [
      "All scores in CV for Train data:  [0.75801749 0.7696793  0.92307692 0.92266667 0.89922481 0.92388451\n",
      " 0.93766938 0.91383812 0.90339426 0.93472585] \n",
      " Mean F1 score for Train data:  0.8886177304620599\n",
      "F1 score for unseen Test data:  0.7749699157641396\n"
     ]
    }
   ],
   "source": [
    "# Fine-tuned Random Forest Pipeline\n",
    "\n",
    "rf = Pipeline(steps=[('mmscaler', mmscaler), ('classifier', RandomForestClassifier(max_depth = 30, n_estimators = 150, random_state=13))])\n",
    "\n",
    "rf_scores = cross_val_score(rf, X_trainS, y_trainS, cv=10, scoring=\"f1\", n_jobs=-1, verbose=2)\n",
    "\n",
    "\n",
    "print('All scores in CV for Train data: ', rf_scores, '\\n', \n",
    "      'Mean F1 score for Train data: ', np.mean(rf_scores))\n",
    "\n",
    "# Testing RandomForest model with the unseen Test set\n",
    "rf.fit(X_trainS, y_trainS)\n",
    "y_pred = rf.predict(X_testS)\n",
    "print('F1 score for unseen Test data: ', f1_score(y_testS, y_pred))\n"
   ]
  },
  {
   "cell_type": "code",
   "execution_count": 30,
   "metadata": {},
   "outputs": [
    {
     "data": {
      "text/plain": [
       "<sklearn.metrics._plot.confusion_matrix.ConfusionMatrixDisplay at 0x2038c8415c8>"
      ]
     },
     "execution_count": 30,
     "metadata": {},
     "output_type": "execute_result"
    },
    {
     "data": {
      "image/png": "[encoded data removed]",
      "text/plain": [
       "<Figure size 432x288 with 2 Axes>"
      ]
     },
     "metadata": {
      "needs_background": "light"
     },
     "output_type": "display_data"
    }
   ],
   "source": [
    "plot_confusion_matrix(rf, X_testS, y_testS, cmap=\"Blues\")"
   ]
  },
  {
   "cell_type": "markdown",
   "metadata": {},
   "source": [
    "Comparing different classification models, **Random Forest Classifier** was able to predict unseen test data with a F1 score of 77%, which would be used next in the final algorithm for music recommendation to predict what songs partner0 may like in an entirely separate partner1's songlist. "
   ]
  },
  {
   "cell_type": "markdown",
   "metadata": {},
   "source": [
    "## Predicting Songs from Partner1's list \n",
    "#### Recommending songs from Partner1's list that Partner0 may like"
   ]
  },
  {
   "cell_type": "code",
   "execution_count": 31,
   "metadata": {},
   "outputs": [],
   "source": [
    "df1_freq = SH1_df.groupby(['track', 'artists'])['track'].count().to_frame('count').reset_index()\n",
    "\n",
    "df_attr_uniq = df_attr.groupby(['track', 'artists']).mean().reset_index()\n"
   ]
  },
  {
   "cell_type": "code",
   "execution_count": 32,
   "metadata": {},
   "outputs": [],
   "source": [
    "df1 = pd.merge(df1_freq, df_attr_uniq, how='inner', on=['track', 'artists'])\n",
    "df1.drop('count', axis=1, inplace=True)\n",
    "df1_X = df1.drop(['track', 'artists', 'key', 'mode', \"explicit\", \"year\"], axis=1)   #['id' 'release_date']"
   ]
  },
  {
   "cell_type": "code",
   "execution_count": 34,
   "metadata": {
    "scrolled": false
   },
   "outputs": [],
   "source": [
    "df1_X_scaled = mmscaler.transform(df1_X)"
   ]
  },
  {
   "cell_type": "code",
   "execution_count": 35,
   "metadata": {},
   "outputs": [],
   "source": [
    "prediction = rf.predict(df1_X_scaled)"
   ]
  },
  {
   "cell_type": "code",
   "execution_count": 36,
   "metadata": {
    "scrolled": false
   },
   "outputs": [
    {
     "name": "stderr",
     "output_type": "stream",
     "text": [
      "C:\\Users\\DrJKLau\\anaconda3\\envs\\opencvenv\\lib\\site-packages\\ipykernel_launcher.py:2: SettingWithCopyWarning: \n",
      "A value is trying to be set on a copy of a slice from a DataFrame.\n",
      "Try using .loc[row_indexer,col_indexer] = value instead\n",
      "\n",
      "See the caveats in the documentation: https://pandas.pydata.org/pandas-docs/stable/user_guide/indexing.html#returning-a-view-versus-a-copy\n",
      "  \n"
     ]
    }
   ],
   "source": [
    "pred_df = df1[[\"track\", \"artists\"]]\n",
    "pred_df['prediction'] = prediction \n"
   ]
  },
  {
   "cell_type": "code",
   "execution_count": 38,
   "metadata": {},
   "outputs": [
    {
     "data": {
      "text/html": [
       "<div>\n",
       "<style scoped>\n",
       "    .dataframe tbody tr th:only-of-type {\n",
       "        vertical-align: middle;\n",
       "    }\n",
       "\n",
       "    .dataframe tbody tr th {\n",
       "        vertical-align: top;\n",
       "    }\n",
       "\n",
       "    .dataframe thead th {\n",
       "        text-align: right;\n",
       "    }\n",
       "</style>\n",
       "<table border=\"1\" class=\"dataframe\">\n",
       "  <thead>\n",
       "    <tr style=\"text-align: right;\">\n",
       "      <th></th>\n",
       "      <th>track</th>\n",
       "      <th>artists</th>\n",
       "      <th>prediction</th>\n",
       "    </tr>\n",
       "  </thead>\n",
       "  <tbody>\n",
       "    <tr>\n",
       "      <th>56</th>\n",
       "      <td>Bad</td>\n",
       "      <td>Lennon Stella</td>\n",
       "      <td>1</td>\n",
       "    </tr>\n",
       "    <tr>\n",
       "      <th>57</th>\n",
       "      <td>Bad Bad News</td>\n",
       "      <td>Leon Bridges</td>\n",
       "      <td>1</td>\n",
       "    </tr>\n",
       "    <tr>\n",
       "      <th>283</th>\n",
       "      <td>Harleys In Hawaii</td>\n",
       "      <td>Katy Perry</td>\n",
       "      <td>1</td>\n",
       "    </tr>\n",
       "    <tr>\n",
       "      <th>607</th>\n",
       "      <td>Say So</td>\n",
       "      <td>Doja Cat</td>\n",
       "      <td>1</td>\n",
       "    </tr>\n",
       "    <tr>\n",
       "      <th>661</th>\n",
       "      <td>Spinning Around</td>\n",
       "      <td>Kylie Minogue</td>\n",
       "      <td>1</td>\n",
       "    </tr>\n",
       "  </tbody>\n",
       "</table>\n",
       "</div>"
      ],
      "text/plain": [
       "                 track        artists  prediction\n",
       "56                 Bad  Lennon Stella           1\n",
       "57        Bad Bad News   Leon Bridges           1\n",
       "283  Harleys In Hawaii     Katy Perry           1\n",
       "607             Say So       Doja Cat           1\n",
       "661    Spinning Around  Kylie Minogue           1"
      ]
     },
     "execution_count": 38,
     "metadata": {},
     "output_type": "execute_result"
    }
   ],
   "source": [
    "pred_df[pred_df[\"prediction\"] ==1].head(5)"
   ]
  },
  {
   "cell_type": "code",
   "execution_count": null,
   "metadata": {},
   "outputs": [],
   "source": [
    "# Saving song list \n",
    "pred_df.to_csv(\"recommended_songlist.csv\")"
   ]
  },
  {
   "cell_type": "markdown",
   "metadata": {},
   "source": [
    "### As the next step, I am going to learn to automate the creation of a playlist using a Python script"
   ]
  },
  {
   "cell_type": "markdown",
   "metadata": {},
   "source": [
    "### Try it out yourself as well!"
   ]
  }
 ],
 "metadata": {
  "kernelspec": {
   "display_name": "Python 3",
   "language": "python",
   "name": "python3"
  },
  "language_info": {
   "codemirror_mode": {
    "name": "ipython",
    "version": 3
   },
   "file_extension": ".py",
   "mimetype": "text/x-python",
   "name": "python",
   "nbconvert_exporter": "python",
   "pygments_lexer": "ipython3",
   "version": "3.7.7"
  }
 },
 "nbformat": 4,
 "nbformat_minor": 4
}
