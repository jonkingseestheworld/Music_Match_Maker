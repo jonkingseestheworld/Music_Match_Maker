{
 "cells": [
  {
   "cell_type": "code",
   "execution_count": 1,
   "metadata": {},
   "outputs": [],
   "source": [
    "# Import required libraries\n",
    "\n",
    "import pandas as pd\n",
    "import numpy as np\n",
    "import seaborn as sns\n",
    "import matplotlib.pyplot as plt\n",
    "from scipy import stats"
   ]
  },
  {
   "cell_type": "code",
   "execution_count": 2,
   "metadata": {
    "scrolled": true
   },
   "outputs": [
    {
     "data": {
      "text/plain": [
       "((15344, 5), (11424, 5), (169909, 19))"
      ]
     },
     "execution_count": 2,
     "metadata": {},
     "output_type": "execute_result"
    }
   ],
   "source": [
    "# Read in personal Streaming History data\n",
    "# SH0_df contains data from partner 0 that will be used for building the ML models\n",
    "# SH1_df are data from partner 1 that will be used in prediction\n",
    "SH0_df = pd.read_csv(\"partner0_StreamingHist.csv\")\n",
    "SH1_df = pd.read_csv(\"partner1_StreamingHist.csv\")\n",
    "\n",
    "# Read in Song Attributes data\n",
    "df_attr = pd.read_csv(\"song_attributes.csv\")\n",
    "\n",
    "SH0_df.shape, SH1_df.shape, df_attr.shape"
   ]
  },
  {
   "cell_type": "code",
   "execution_count": 3,
   "metadata": {
    "scrolled": true
   },
   "outputs": [],
   "source": [
    "# Some data cleaning to remove some special characters ([,],',\") in the 'artists' column in the raw data of 'song attributes' \n",
    "df_attr['artists'] = df_attr['artists'].replace({r'\\[|\\]|\\'|\\\"':''}, regex=True)\n",
    "df_attr = df_attr.rename(columns={'name':'track'})\n",
    "SH0_df = SH0_df.rename(columns={'artistName':'artists', 'trackName':'track'}).drop('Unnamed: 0', axis=1)\n",
    "SH1_df = SH1_df.rename(columns={'artistName':'artists', 'trackName':'track'}).drop('Unnamed: 0', axis=1)\n"
   ]
  },
  {
   "cell_type": "code",
   "execution_count": 71,
   "metadata": {
    "scrolled": false
   },
   "outputs": [
    {
     "data": {
      "text/html": [
       "<div>\n",
       "<style scoped>\n",
       "    .dataframe tbody tr th:only-of-type {\n",
       "        vertical-align: middle;\n",
       "    }\n",
       "\n",
       "    .dataframe tbody tr th {\n",
       "        vertical-align: top;\n",
       "    }\n",
       "\n",
       "    .dataframe thead th {\n",
       "        text-align: right;\n",
       "    }\n",
       "</style>\n",
       "<table border=\"1\" class=\"dataframe\">\n",
       "  <thead>\n",
       "    <tr style=\"text-align: right;\">\n",
       "      <th></th>\n",
       "      <th>endTime</th>\n",
       "      <th>artists</th>\n",
       "      <th>track</th>\n",
       "      <th>msPlayed</th>\n",
       "    </tr>\n",
       "  </thead>\n",
       "  <tbody>\n",
       "    <tr>\n",
       "      <th>0</th>\n",
       "      <td>30/07/2019 13:40</td>\n",
       "      <td>The Blue Nile</td>\n",
       "      <td>Tinseltown in the Rain</td>\n",
       "      <td>306831.0</td>\n",
       "    </tr>\n",
       "    <tr>\n",
       "      <th>1</th>\n",
       "      <td>30/07/2019 14:18</td>\n",
       "      <td>David Gray</td>\n",
       "      <td>Babylon</td>\n",
       "      <td>265666.0</td>\n",
       "    </tr>\n",
       "    <tr>\n",
       "      <th>2</th>\n",
       "      <td>10/12/2019 07:02</td>\n",
       "      <td>David Gray</td>\n",
       "      <td>Babylon</td>\n",
       "      <td>265666.0</td>\n",
       "    </tr>\n",
       "    <tr>\n",
       "      <th>3</th>\n",
       "      <td>01/01/2020 21:54</td>\n",
       "      <td>David Gray</td>\n",
       "      <td>Babylon</td>\n",
       "      <td>1300.0</td>\n",
       "    </tr>\n",
       "    <tr>\n",
       "      <th>4</th>\n",
       "      <td>20/01/2020 09:15</td>\n",
       "      <td>David Gray</td>\n",
       "      <td>Babylon</td>\n",
       "      <td>265666.0</td>\n",
       "    </tr>\n",
       "  </tbody>\n",
       "</table>\n",
       "</div>"
      ],
      "text/plain": [
       "            endTime        artists                   track  msPlayed\n",
       "0  30/07/2019 13:40  The Blue Nile  Tinseltown in the Rain  306831.0\n",
       "1  30/07/2019 14:18     David Gray                 Babylon  265666.0\n",
       "2  10/12/2019 07:02     David Gray                 Babylon  265666.0\n",
       "3  01/01/2020 21:54     David Gray                 Babylon    1300.0\n",
       "4  20/01/2020 09:15     David Gray                 Babylon  265666.0"
      ]
     },
     "execution_count": 71,
     "metadata": {},
     "output_type": "execute_result"
    }
   ],
   "source": [
    "# Short-list only songs from SH0_df that also have 'song attributes' data\n",
    "sl_df0 = pd.merge(SH0_df, df_attr[['track', 'artists']], how='inner', on=['track', 'artists'])\n",
    "\n",
    "#comb_df0 = comb_df0[comb_df0['danceability'].notnull()]\n",
    "#len(sl_df0)\n",
    "\n",
    "sl_df0.head(5)"
   ]
  },
  {
   "cell_type": "code",
   "execution_count": 76,
   "metadata": {},
   "outputs": [
    {
     "data": {
      "text/html": [
       "<div>\n",
       "<style scoped>\n",
       "    .dataframe tbody tr th:only-of-type {\n",
       "        vertical-align: middle;\n",
       "    }\n",
       "\n",
       "    .dataframe tbody tr th {\n",
       "        vertical-align: top;\n",
       "    }\n",
       "\n",
       "    .dataframe thead th {\n",
       "        text-align: right;\n",
       "    }\n",
       "</style>\n",
       "<table border=\"1\" class=\"dataframe\">\n",
       "  <thead>\n",
       "    <tr style=\"text-align: right;\">\n",
       "      <th></th>\n",
       "      <th>track</th>\n",
       "      <th>artists</th>\n",
       "      <th>tot_msPlayed</th>\n",
       "    </tr>\n",
       "  </thead>\n",
       "  <tbody>\n",
       "    <tr>\n",
       "      <th>0</th>\n",
       "      <td>\"45\"</td>\n",
       "      <td>The Gaslight Anthem</td>\n",
       "      <td>207546.0</td>\n",
       "    </tr>\n",
       "    <tr>\n",
       "      <th>1</th>\n",
       "      <td>\"Heroes\" - Live; 2005 Remaster</td>\n",
       "      <td>David Bowie</td>\n",
       "      <td>145900.0</td>\n",
       "    </tr>\n",
       "    <tr>\n",
       "      <th>2</th>\n",
       "      <td>'Helden' - German Version 1989 Remix; 2002 Rem...</td>\n",
       "      <td>David Bowie</td>\n",
       "      <td>2206917.0</td>\n",
       "    </tr>\n",
       "    <tr>\n",
       "      <th>3</th>\n",
       "      <td>(Everybody Wanna Get Rich) Rite Away</td>\n",
       "      <td>Dr. John</td>\n",
       "      <td>26002.0</td>\n",
       "    </tr>\n",
       "    <tr>\n",
       "      <th>4</th>\n",
       "      <td>(Feels Like) Heaven</td>\n",
       "      <td>Fiction Factory</td>\n",
       "      <td>214048.0</td>\n",
       "    </tr>\n",
       "    <tr>\n",
       "      <th>...</th>\n",
       "      <td>...</td>\n",
       "      <td>...</td>\n",
       "      <td>...</td>\n",
       "    </tr>\n",
       "    <tr>\n",
       "      <th>2095</th>\n",
       "      <td>wish you were gay</td>\n",
       "      <td>Billie Eilish</td>\n",
       "      <td>443086.0</td>\n",
       "    </tr>\n",
       "    <tr>\n",
       "      <th>2096</th>\n",
       "      <td>xanny</td>\n",
       "      <td>Billie Eilish</td>\n",
       "      <td>256464.0</td>\n",
       "    </tr>\n",
       "    <tr>\n",
       "      <th>2097</th>\n",
       "      <td>you should see me in a crown</td>\n",
       "      <td>Billie Eilish</td>\n",
       "      <td>542856.0</td>\n",
       "    </tr>\n",
       "    <tr>\n",
       "      <th>2098</th>\n",
       "      <td>守得云开见月明 - Every cloud has a silver lining</td>\n",
       "      <td>Yue Yan Jen</td>\n",
       "      <td>393000.0</td>\n",
       "    </tr>\n",
       "    <tr>\n",
       "      <th>2099</th>\n",
       "      <td>梦蝶 - Dream to be a butterfly</td>\n",
       "      <td>Yue Yan Jen</td>\n",
       "      <td>321000.0</td>\n",
       "    </tr>\n",
       "  </tbody>\n",
       "</table>\n",
       "<p>2100 rows × 3 columns</p>\n",
       "</div>"
      ],
      "text/plain": [
       "                                                  track              artists  \\\n",
       "0                                                  \"45\"  The Gaslight Anthem   \n",
       "1                        \"Heroes\" - Live; 2005 Remaster          David Bowie   \n",
       "2     'Helden' - German Version 1989 Remix; 2002 Rem...          David Bowie   \n",
       "3                  (Everybody Wanna Get Rich) Rite Away             Dr. John   \n",
       "4                                   (Feels Like) Heaven      Fiction Factory   \n",
       "...                                                 ...                  ...   \n",
       "2095                                  wish you were gay        Billie Eilish   \n",
       "2096                                              xanny        Billie Eilish   \n",
       "2097                       you should see me in a crown        Billie Eilish   \n",
       "2098          守得云开见月明 - Every cloud has a silver lining          Yue Yan Jen   \n",
       "2099                       梦蝶 - Dream to be a butterfly          Yue Yan Jen   \n",
       "\n",
       "      tot_msPlayed  \n",
       "0         207546.0  \n",
       "1         145900.0  \n",
       "2        2206917.0  \n",
       "3          26002.0  \n",
       "4         214048.0  \n",
       "...            ...  \n",
       "2095      443086.0  \n",
       "2096      256464.0  \n",
       "2097      542856.0  \n",
       "2098      393000.0  \n",
       "2099      321000.0  \n",
       "\n",
       "[2100 rows x 3 columns]"
      ]
     },
     "execution_count": 76,
     "metadata": {},
     "output_type": "execute_result"
    }
   ],
   "source": [
    "sl_df0.groupby(['track','artists'])['msPlayed'].sum().to_frame('tot_msPlayed').reset_index()\n",
    "\n",
    "#ax=sl_df0.groupby(['track','artists'])['msPlayed'].sum().to_frame('tot_msPlayed').reset_index().plot(kind='hist', bins=500)\n",
    "#ax.set_xlim(0,2000000)"
   ]
  },
  {
   "cell_type": "code",
   "execution_count": 113,
   "metadata": {
    "scrolled": true
   },
   "outputs": [
    {
     "data": {
      "text/plain": [
       "(0.0, 20.0)"
      ]
     },
     "execution_count": 113,
     "metadata": {},
     "output_type": "execute_result"
    },
    {
     "data": {
      "image/png": "[encoded data removed]",
      "text/plain": [
       "<Figure size 432x288 with 1 Axes>"
      ]
     },
     "metadata": {
      "needs_background": "light"
     },
     "output_type": "display_data"
    }
   ],
   "source": [
    "ax=sl_df0.groupby(['track', 'artists']).size().to_frame('count').reset_index().plot(kind='hist', bins=40)\n",
    "ax.set_xlim(0,20)"
   ]
  },
  {
   "cell_type": "code",
   "execution_count": 114,
   "metadata": {},
   "outputs": [
    {
     "data": {
      "text/html": [
       "<div>\n",
       "<style scoped>\n",
       "    .dataframe tbody tr th:only-of-type {\n",
       "        vertical-align: middle;\n",
       "    }\n",
       "\n",
       "    .dataframe tbody tr th {\n",
       "        vertical-align: top;\n",
       "    }\n",
       "\n",
       "    .dataframe thead th {\n",
       "        text-align: right;\n",
       "    }\n",
       "</style>\n",
       "<table border=\"1\" class=\"dataframe\">\n",
       "  <thead>\n",
       "    <tr style=\"text-align: right;\">\n",
       "      <th></th>\n",
       "      <th>track</th>\n",
       "      <th>artists</th>\n",
       "      <th>count</th>\n",
       "    </tr>\n",
       "  </thead>\n",
       "  <tbody>\n",
       "    <tr>\n",
       "      <th>0</th>\n",
       "      <td>\"45\"</td>\n",
       "      <td>The Gaslight Anthem</td>\n",
       "      <td>1</td>\n",
       "    </tr>\n",
       "    <tr>\n",
       "      <th>1</th>\n",
       "      <td>\"Heroes\" - Live; 2005 Remaster</td>\n",
       "      <td>David Bowie</td>\n",
       "      <td>1</td>\n",
       "    </tr>\n",
       "    <tr>\n",
       "      <th>2</th>\n",
       "      <td>'Helden' - German Version 1989 Remix; 2002 Rem...</td>\n",
       "      <td>David Bowie</td>\n",
       "      <td>12</td>\n",
       "    </tr>\n",
       "    <tr>\n",
       "      <th>3</th>\n",
       "      <td>(Everybody Wanna Get Rich) Rite Away</td>\n",
       "      <td>Dr. John</td>\n",
       "      <td>1</td>\n",
       "    </tr>\n",
       "    <tr>\n",
       "      <th>4</th>\n",
       "      <td>(Feels Like) Heaven</td>\n",
       "      <td>Fiction Factory</td>\n",
       "      <td>2</td>\n",
       "    </tr>\n",
       "    <tr>\n",
       "      <th>5</th>\n",
       "      <td>(I Can't Get No) Satisfaction - Mono Version</td>\n",
       "      <td>The Rolling Stones</td>\n",
       "      <td>4</td>\n",
       "    </tr>\n",
       "    <tr>\n",
       "      <th>6</th>\n",
       "      <td>(Si, Si) Je Suis Un Rock Star</td>\n",
       "      <td>Bill Wyman</td>\n",
       "      <td>2</td>\n",
       "    </tr>\n",
       "    <tr>\n",
       "      <th>7</th>\n",
       "      <td>(Sittin' On) The Dock Of The Bay - Remastered ...</td>\n",
       "      <td>Glen Campbell</td>\n",
       "      <td>4</td>\n",
       "    </tr>\n",
       "    <tr>\n",
       "      <th>8</th>\n",
       "      <td>(You Make Me Feel Like) A Natural Woman</td>\n",
       "      <td>Aretha Franklin</td>\n",
       "      <td>2</td>\n",
       "    </tr>\n",
       "    <tr>\n",
       "      <th>9</th>\n",
       "      <td>(Your Love Keeps Lifting Me) Higher &amp; Higher</td>\n",
       "      <td>Jackie Wilson</td>\n",
       "      <td>2</td>\n",
       "    </tr>\n",
       "  </tbody>\n",
       "</table>\n",
       "</div>"
      ],
      "text/plain": [
       "                                               track              artists  \\\n",
       "0                                               \"45\"  The Gaslight Anthem   \n",
       "1                     \"Heroes\" - Live; 2005 Remaster          David Bowie   \n",
       "2  'Helden' - German Version 1989 Remix; 2002 Rem...          David Bowie   \n",
       "3               (Everybody Wanna Get Rich) Rite Away             Dr. John   \n",
       "4                                (Feels Like) Heaven      Fiction Factory   \n",
       "5       (I Can't Get No) Satisfaction - Mono Version   The Rolling Stones   \n",
       "6                      (Si, Si) Je Suis Un Rock Star           Bill Wyman   \n",
       "7  (Sittin' On) The Dock Of The Bay - Remastered ...        Glen Campbell   \n",
       "8            (You Make Me Feel Like) A Natural Woman      Aretha Franklin   \n",
       "9       (Your Love Keeps Lifting Me) Higher & Higher        Jackie Wilson   \n",
       "\n",
       "   count  \n",
       "0      1  \n",
       "1      1  \n",
       "2     12  \n",
       "3      1  \n",
       "4      2  \n",
       "5      4  \n",
       "6      2  \n",
       "7      4  \n",
       "8      2  \n",
       "9      2  "
      ]
     },
     "execution_count": 114,
     "metadata": {},
     "output_type": "execute_result"
    }
   ],
   "source": [
    "# Count the number of occurences of each song in the short-listed data\n",
    "df0_fav = sl_df0.groupby(['track', 'artists'])['track'].count().to_frame('count').reset_index()\n",
    "df0_fav.head(10)"
   ]
  },
  {
   "cell_type": "code",
   "execution_count": 115,
   "metadata": {},
   "outputs": [
    {
     "data": {
      "text/html": [
       "<div>\n",
       "<style scoped>\n",
       "    .dataframe tbody tr th:only-of-type {\n",
       "        vertical-align: middle;\n",
       "    }\n",
       "\n",
       "    .dataframe tbody tr th {\n",
       "        vertical-align: top;\n",
       "    }\n",
       "\n",
       "    .dataframe thead th {\n",
       "        text-align: right;\n",
       "    }\n",
       "</style>\n",
       "<table border=\"1\" class=\"dataframe\">\n",
       "  <thead>\n",
       "    <tr style=\"text-align: right;\">\n",
       "      <th></th>\n",
       "      <th>track</th>\n",
       "      <th>artists</th>\n",
       "      <th>count</th>\n",
       "    </tr>\n",
       "  </thead>\n",
       "  <tbody>\n",
       "    <tr>\n",
       "      <th>2026</th>\n",
       "      <td>You Can Call Me Al</td>\n",
       "      <td>Paul Simon</td>\n",
       "      <td>8</td>\n",
       "    </tr>\n",
       "    <tr>\n",
       "      <th>2028</th>\n",
       "      <td>You Can't Hurry Love - 2016 Remaster</td>\n",
       "      <td>Phil Collins</td>\n",
       "      <td>46</td>\n",
       "    </tr>\n",
       "    <tr>\n",
       "      <th>2042</th>\n",
       "      <td>You Make My Dreams (Come True)</td>\n",
       "      <td>Daryl Hall &amp; John Oates</td>\n",
       "      <td>10</td>\n",
       "    </tr>\n",
       "    <tr>\n",
       "      <th>2072</th>\n",
       "      <td>Your Song</td>\n",
       "      <td>Elton John</td>\n",
       "      <td>6</td>\n",
       "    </tr>\n",
       "    <tr>\n",
       "      <th>2079</th>\n",
       "      <td>bad guy</td>\n",
       "      <td>Billie Eilish</td>\n",
       "      <td>41</td>\n",
       "    </tr>\n",
       "  </tbody>\n",
       "</table>\n",
       "</div>"
      ],
      "text/plain": [
       "                                     track                  artists  count\n",
       "2026                    You Can Call Me Al               Paul Simon      8\n",
       "2028  You Can't Hurry Love - 2016 Remaster             Phil Collins     46\n",
       "2042        You Make My Dreams (Come True)  Daryl Hall & John Oates     10\n",
       "2072                             Your Song               Elton John      6\n",
       "2079                               bad guy            Billie Eilish     41"
      ]
     },
     "execution_count": 115,
     "metadata": {},
     "output_type": "execute_result"
    }
   ],
   "source": [
    "df0_fav[df0_fav['count'] >= 5].tail(5)"
   ]
  },
  {
   "cell_type": "code",
   "execution_count": 116,
   "metadata": {},
   "outputs": [],
   "source": [
    "# Save songs with 5 or more occurrences/listens as 1 ('favourite')\n",
    "df0_fav = sl_df0.groupby(['track', 'artists'])['track'].count().to_frame('count').reset_index()\n",
    "\n",
    "df0_fav['favourite'] = np.where(df0_fav['count'] >= 5, 1, 0)\n",
    "df0_fav = df0_fav.drop('count', axis=1)\n",
    "\n"
   ]
  },
  {
   "cell_type": "code",
   "execution_count": 272,
   "metadata": {
    "scrolled": true
   },
   "outputs": [
    {
     "data": {
      "text/html": [
       "<div>\n",
       "<style scoped>\n",
       "    .dataframe tbody tr th:only-of-type {\n",
       "        vertical-align: middle;\n",
       "    }\n",
       "\n",
       "    .dataframe tbody tr th {\n",
       "        vertical-align: top;\n",
       "    }\n",
       "\n",
       "    .dataframe thead th {\n",
       "        text-align: right;\n",
       "    }\n",
       "</style>\n",
       "<table border=\"1\" class=\"dataframe\">\n",
       "  <thead>\n",
       "    <tr style=\"text-align: right;\">\n",
       "      <th></th>\n",
       "      <th>track</th>\n",
       "      <th>artists</th>\n",
       "      <th>favourite</th>\n",
       "      <th>acousticness</th>\n",
       "      <th>danceability</th>\n",
       "      <th>duration_ms</th>\n",
       "      <th>energy</th>\n",
       "      <th>instrumentalness</th>\n",
       "      <th>liveness</th>\n",
       "      <th>loudness</th>\n",
       "      <th>popularity</th>\n",
       "      <th>speechiness</th>\n",
       "      <th>tempo</th>\n",
       "      <th>valence</th>\n",
       "    </tr>\n",
       "  </thead>\n",
       "  <tbody>\n",
       "    <tr>\n",
       "      <th>0</th>\n",
       "      <td>\"45\"</td>\n",
       "      <td>The Gaslight Anthem</td>\n",
       "      <td>0</td>\n",
       "      <td>0.000696</td>\n",
       "      <td>0.315</td>\n",
       "      <td>202493</td>\n",
       "      <td>0.970</td>\n",
       "      <td>0.00000</td>\n",
       "      <td>0.2770</td>\n",
       "      <td>-4.709</td>\n",
       "      <td>48</td>\n",
       "      <td>0.1020</td>\n",
       "      <td>178.068</td>\n",
       "      <td>0.423</td>\n",
       "    </tr>\n",
       "    <tr>\n",
       "      <th>1</th>\n",
       "      <td>\"Heroes\" - Live; 2005 Remaster</td>\n",
       "      <td>David Bowie</td>\n",
       "      <td>0</td>\n",
       "      <td>0.028800</td>\n",
       "      <td>0.489</td>\n",
       "      <td>374533</td>\n",
       "      <td>0.814</td>\n",
       "      <td>0.02100</td>\n",
       "      <td>0.8010</td>\n",
       "      <td>-7.705</td>\n",
       "      <td>30</td>\n",
       "      <td>0.0323</td>\n",
       "      <td>114.211</td>\n",
       "      <td>0.738</td>\n",
       "    </tr>\n",
       "    <tr>\n",
       "      <th>2</th>\n",
       "      <td>'Helden' - German Version 1989 Remix; 2002 Rem...</td>\n",
       "      <td>David Bowie</td>\n",
       "      <td>1</td>\n",
       "      <td>0.000085</td>\n",
       "      <td>0.444</td>\n",
       "      <td>220707</td>\n",
       "      <td>0.674</td>\n",
       "      <td>0.25400</td>\n",
       "      <td>0.1160</td>\n",
       "      <td>-7.791</td>\n",
       "      <td>49</td>\n",
       "      <td>0.0298</td>\n",
       "      <td>112.459</td>\n",
       "      <td>0.485</td>\n",
       "    </tr>\n",
       "    <tr>\n",
       "      <th>3</th>\n",
       "      <td>(Everybody Wanna Get Rich) Rite Away</td>\n",
       "      <td>Dr. John</td>\n",
       "      <td>0</td>\n",
       "      <td>0.518000</td>\n",
       "      <td>0.746</td>\n",
       "      <td>163933</td>\n",
       "      <td>0.916</td>\n",
       "      <td>0.06860</td>\n",
       "      <td>0.0785</td>\n",
       "      <td>-10.061</td>\n",
       "      <td>53</td>\n",
       "      <td>0.0772</td>\n",
       "      <td>99.926</td>\n",
       "      <td>0.971</td>\n",
       "    </tr>\n",
       "    <tr>\n",
       "      <th>4</th>\n",
       "      <td>(Feels Like) Heaven</td>\n",
       "      <td>Fiction Factory</td>\n",
       "      <td>0</td>\n",
       "      <td>0.198000</td>\n",
       "      <td>0.542</td>\n",
       "      <td>214047</td>\n",
       "      <td>0.820</td>\n",
       "      <td>0.00172</td>\n",
       "      <td>0.0497</td>\n",
       "      <td>-10.982</td>\n",
       "      <td>45</td>\n",
       "      <td>0.0512</td>\n",
       "      <td>116.666</td>\n",
       "      <td>0.762</td>\n",
       "    </tr>\n",
       "  </tbody>\n",
       "</table>\n",
       "</div>"
      ],
      "text/plain": [
       "                                               track              artists  \\\n",
       "0                                               \"45\"  The Gaslight Anthem   \n",
       "1                     \"Heroes\" - Live; 2005 Remaster          David Bowie   \n",
       "2  'Helden' - German Version 1989 Remix; 2002 Rem...          David Bowie   \n",
       "3               (Everybody Wanna Get Rich) Rite Away             Dr. John   \n",
       "4                                (Feels Like) Heaven      Fiction Factory   \n",
       "\n",
       "   favourite  acousticness  danceability  duration_ms  energy  \\\n",
       "0          0      0.000696         0.315       202493   0.970   \n",
       "1          0      0.028800         0.489       374533   0.814   \n",
       "2          1      0.000085         0.444       220707   0.674   \n",
       "3          0      0.518000         0.746       163933   0.916   \n",
       "4          0      0.198000         0.542       214047   0.820   \n",
       "\n",
       "   instrumentalness  liveness  loudness  popularity  speechiness    tempo  \\\n",
       "0           0.00000    0.2770    -4.709          48       0.1020  178.068   \n",
       "1           0.02100    0.8010    -7.705          30       0.0323  114.211   \n",
       "2           0.25400    0.1160    -7.791          49       0.0298  112.459   \n",
       "3           0.06860    0.0785   -10.061          53       0.0772   99.926   \n",
       "4           0.00172    0.0497   -10.982          45       0.0512  116.666   \n",
       "\n",
       "   valence  \n",
       "0    0.423  \n",
       "1    0.738  \n",
       "2    0.485  \n",
       "3    0.971  \n",
       "4    0.762  "
      ]
     },
     "execution_count": 272,
     "metadata": {},
     "output_type": "execute_result"
    }
   ],
   "source": [
    "# merging 'favourite' column into the 'song attributes' datafile (this returns only songs that parter 0 (SH0) had listened to in the previous year)\n",
    "df0 = pd.merge(df0_fav, df_attr, how='left', on=['track', 'artists'])\n",
    "df0.drop(columns = ['id', 'key', 'mode', 'release_date', \"explicit\", \"year\"], inplace=True)\n",
    "df0.head(5)\n"
   ]
  },
  {
   "cell_type": "code",
   "execution_count": 159,
   "metadata": {},
   "outputs": [
    {
     "data": {
      "image/png": "[encoded data removed]",
      "text/plain": [
       "<Figure size 1440x720 with 2 Axes>"
      ]
     },
     "metadata": {
      "needs_background": "light"
     },
     "output_type": "display_data"
    }
   ],
   "source": [
    "# Correlation matrix of Song Features\n",
    "\n",
    "plt.figure(figsize=(20,10))\n",
    "c = df0.drop(columns = [\"track\", \"artists\"]).corr()\n",
    "corr = sns.heatmap(c, cmap=\"BrBG\", annot=True)\n"
   ]
  },
  {
   "cell_type": "code",
   "execution_count": 160,
   "metadata": {
    "scrolled": true
   },
   "outputs": [
    {
     "data": {
      "text/plain": [
       "0    2309\n",
       "1     463\n",
       "Name: favourite, dtype: int64"
      ]
     },
     "execution_count": 160,
     "metadata": {},
     "output_type": "execute_result"
    }
   ],
   "source": [
    "df0.favourite.value_counts()"
   ]
  },
  {
   "cell_type": "markdown",
   "metadata": {},
   "source": [
    "## Model Selection with Cross-validation and Hyperparameter Tuning"
   ]
  },
  {
   "cell_type": "code",
   "execution_count": 161,
   "metadata": {},
   "outputs": [],
   "source": [
    "# Importing required libraries\n",
    "import sklearn\n",
    "from sklearn.pipeline import Pipeline\n",
    "from sklearn.preprocessing import MinMaxScaler\n",
    "\n",
    "from sklearn.model_selection import cross_val_score\n",
    "from sklearn.model_selection import train_test_split\n",
    "from sklearn.model_selection import GridSearchCV\n",
    "from sklearn import metrics \n",
    "from sklearn.metrics import f1_score\n",
    "# Models\n",
    "from sklearn.ensemble import RandomForestClassifier\n",
    "from sklearn.linear_model import LogisticRegression \n",
    "from sklearn.tree import DecisionTreeClassifier\n",
    "from imblearn.over_sampling import SMOTE\n"
   ]
  },
  {
   "cell_type": "code",
   "execution_count": 162,
   "metadata": {},
   "outputs": [],
   "source": [
    "# Train / Split Data\n",
    "X_train, X_test, y_train, y_test = train_test_split(df0.drop(columns=[\"track\", \"artists\", \"favourite\"]), df0[\"favourite\"], test_size=.20)"
   ]
  },
  {
   "cell_type": "code",
   "execution_count": 163,
   "metadata": {},
   "outputs": [],
   "source": [
    "# Scale Features To Reduce potential biases towards certain features during learning \n",
    "## algorithms that fit a model using a weighted sum of input variables are especially affected, such as linear regression, logistic regression, and artificial neural networks \n",
    "mmscaler = MinMaxScaler()\n",
    "\n",
    "X_train_scaled = mmscaler.fit_transform(X_train)\n",
    "X_test_scaled = mmscaler.transform(X_test)\n"
   ]
  },
  {
   "cell_type": "code",
   "execution_count": 168,
   "metadata": {},
   "outputs": [],
   "source": [
    "# Apply SMOTE\n",
    "\n",
    "oversample = SMOTE()\n",
    "X_train_scaled,y_train = oversample.fit_resample(X_train_scaled,y_train)\n"
   ]
  },
  {
   "cell_type": "markdown",
   "metadata": {},
   "source": [
    "For each model, cross-validation is used to see how well each model generalises and obtain a F1 score."
   ]
  },
  {
   "cell_type": "code",
   "execution_count": 211,
   "metadata": {},
   "outputs": [
    {
     "name": "stderr",
     "output_type": "stream",
     "text": [
      "[Parallel(n_jobs=-1)]: Using backend LokyBackend with 4 concurrent workers.\n"
     ]
    },
    {
     "name": "stdout",
     "output_type": "stream",
     "text": [
      "Wall time: 2.62 s\n"
     ]
    },
    {
     "name": "stderr",
     "output_type": "stream",
     "text": [
      "[Parallel(n_jobs=-1)]: Done   5 out of   5 | elapsed:    2.5s finished\n"
     ]
    }
   ],
   "source": [
    "%%time\n",
    "# Logistic Regression\n",
    "lr = LogisticRegression()\n",
    "lr_scores = cross_val_score(lr, X_train_scaled, y_train, cv=5, scoring=\"f1\", n_jobs=-1, verbose=2)\n",
    "#np.mean(lr_scores)"
   ]
  },
  {
   "cell_type": "code",
   "execution_count": 179,
   "metadata": {},
   "outputs": [
    {
     "data": {
      "text/plain": [
       "0.5724940179252818"
      ]
     },
     "execution_count": 179,
     "metadata": {},
     "output_type": "execute_result"
    }
   ],
   "source": [
    "np.mean(lr_scores)"
   ]
  },
  {
   "cell_type": "code",
   "execution_count": null,
   "metadata": {},
   "outputs": [],
   "source": []
  },
  {
   "cell_type": "code",
   "execution_count": 216,
   "metadata": {},
   "outputs": [
    {
     "data": {
      "text/plain": [
       "{'max_depth': 30}"
      ]
     },
     "execution_count": 216,
     "metadata": {},
     "output_type": "execute_result"
    }
   ],
   "source": [
    "# Hyperparameter optimization for Decision Tree Classifier\n",
    "parameters = {\n",
    "    'max_depth':[15,20,30],\n",
    "}\n",
    "dtc = Pipeline([('CV',GridSearchCV(DecisionTreeClassifier(random_state=13), parameters, cv = 5, scoring=\"f1\"))])\n",
    "dtc.fit(X_train_scaled, y_train)\n",
    "dtc.named_steps['CV'].best_params_"
   ]
  },
  {
   "cell_type": "code",
   "execution_count": 217,
   "metadata": {},
   "outputs": [
    {
     "name": "stderr",
     "output_type": "stream",
     "text": [
      "[Parallel(n_jobs=-1)]: Using backend LokyBackend with 4 concurrent workers.\n",
      "[Parallel(n_jobs=-1)]: Done  10 out of  10 | elapsed:    0.2s finished\n"
     ]
    },
    {
     "data": {
      "text/plain": [
       "0.8033582899028457"
      ]
     },
     "execution_count": 217,
     "metadata": {},
     "output_type": "execute_result"
    }
   ],
   "source": [
    "# Decision Tree\n",
    "dt = DecisionTreeClassifier(max_depth=30)\n",
    "dt_scores = cross_val_score(dt, X_train_scaled, y_train, cv=10, scoring=\"f1\", n_jobs=-1, verbose=2)\n",
    "np.mean(dt_scores)"
   ]
  },
  {
   "cell_type": "code",
   "execution_count": null,
   "metadata": {},
   "outputs": [],
   "source": []
  },
  {
   "cell_type": "code",
   "execution_count": 218,
   "metadata": {},
   "outputs": [
    {
     "data": {
      "text/plain": [
       "{'max_depth': 20, 'n_estimators': 30}"
      ]
     },
     "execution_count": 218,
     "metadata": {},
     "output_type": "execute_result"
    }
   ],
   "source": [
    "# Hyperparameter optimization of RandomForestClassifier\n",
    "parameters = {\n",
    "    'max_depth':[6,12,15,20],\n",
    "    'n_estimators':[20,30]\n",
    "}\n",
    "clf = Pipeline([('CV',GridSearchCV(RandomForestClassifier(random_state=13), parameters, cv = 5, scoring=\"f1\"))])\n",
    "clf.fit(X_train_scaled, y_train)\n",
    "clf.named_steps['CV'].best_params_"
   ]
  },
  {
   "cell_type": "code",
   "execution_count": 220,
   "metadata": {
    "scrolled": true
   },
   "outputs": [
    {
     "data": {
      "text/plain": [
       "0.9053167586855009"
      ]
     },
     "execution_count": 220,
     "metadata": {},
     "output_type": "execute_result"
    }
   ],
   "source": [
    "# Cross-validation for RandomForestClassifier\n",
    "rf = Pipeline([('rf', RandomForestClassifier(n_estimators = 20, max_depth = 30, random_state=13))])\n",
    "rf_scores = cross_val_score(rf, X_train_scaled, y_train, cv=10, scoring=\"f1\", n_jobs=-1, verbose=2)\n",
    "np.mean(rf_scores)"
   ]
  },
  {
   "cell_type": "code",
   "execution_count": null,
   "metadata": {},
   "outputs": [],
   "source": []
  },
  {
   "cell_type": "code",
   "execution_count": 234,
   "metadata": {},
   "outputs": [
    {
     "name": "stdout",
     "output_type": "stream",
     "text": [
      "Fitting 5 folds for each of 2 candidates, totalling 10 fits\n"
     ]
    },
    {
     "name": "stderr",
     "output_type": "stream",
     "text": [
      "[Parallel(n_jobs=-1)]: Using backend LokyBackend with 4 concurrent workers.\n",
      "[Parallel(n_jobs=-1)]: Done  10 out of  10 | elapsed:   49.4s finished\n",
      "C:\\Users\\DrJKLau\\anaconda3\\envs\\opencvenv\\lib\\site-packages\\sklearn\\neural_network\\_multilayer_perceptron.py:585: ConvergenceWarning: Stochastic Optimizer: Maximum iterations (200) reached and the optimization hasn't converged yet.\n",
      "  % self.max_iter, ConvergenceWarning)\n"
     ]
    },
    {
     "data": {
      "text/plain": [
       "{'alpha': 0.001, 'hidden_layer_sizes': [100, 150]}"
      ]
     },
     "execution_count": 234,
     "metadata": {},
     "output_type": "execute_result"
    }
   ],
   "source": [
    "from sklearn.neural_network import MLPClassifier\n",
    "\n",
    "parameters = {\n",
    "    'alpha':[0.001],    #tested[0.0001, 0.005, 0.01, 0.05, 0.01, 0.1, 1.0, 5.0]\n",
    "    'hidden_layer_sizes': [[100, 100], [100,150]]    # tested [[100,50], [150, 50], [100,10], [100, 20], [100,10], [50, 10], [10, 10]]\n",
    "}\n",
    "\n",
    "mlpc = Pipeline([('CV', GridSearchCV(MLPClassifier(random_state=13), parameters, cv=5, scoring=\"f1\", n_jobs=-1, verbose=2))])\n",
    "mlpc.fit(X_train_scaled, y_train)\n",
    "mlpc.named_steps['CV'].best_params_\n",
    "#clf1 = MLPClassifier(random_state=13 , hidden_layer_sizes = [10,10]) #solver - defaults is 'adam'\n",
    "#grid_values = {'alpha': [0.01, 0.1, 1.0, 5.0]}    #also tried this combination [0.001, 0.005, 0.01, 0.05] and the best param is still 0.01\n",
    "               \n",
    "\n",
    "# metric to optimize over grid parameters: AUC\n",
    "#grid_clf_auc = GridSearchCV(clf1, param_grid = grid_values, scoring = 'roc_auc')"
   ]
  },
  {
   "cell_type": "code",
   "execution_count": 235,
   "metadata": {},
   "outputs": [
    {
     "name": "stderr",
     "output_type": "stream",
     "text": [
      "[Parallel(n_jobs=-1)]: Using backend LokyBackend with 4 concurrent workers.\n",
      "[Parallel(n_jobs=-1)]: Done  10 out of  10 | elapsed:  1.0min finished\n"
     ]
    },
    {
     "data": {
      "text/plain": [
       "0.8113635643727101"
      ]
     },
     "execution_count": 235,
     "metadata": {},
     "output_type": "execute_result"
    }
   ],
   "source": [
    "# Cross-validation for RandomForestClassifier\n",
    "mlp = Pipeline([('mlp', MLPClassifier(random_state=13, alpha = 0.001, hidden_layer_sizes = (100,150)))])\n",
    "mlp_scores = cross_val_score(mlp, X_train_scaled, y_train, cv=10, scoring=\"f1\", n_jobs=-1, verbose=2)\n",
    "np.mean(mlp_scores)"
   ]
  },
  {
   "cell_type": "code",
   "execution_count": null,
   "metadata": {},
   "outputs": [],
   "source": []
  },
  {
   "cell_type": "code",
   "execution_count": 265,
   "metadata": {},
   "outputs": [
    {
     "name": "stdout",
     "output_type": "stream",
     "text": [
      "Fitting 5 folds for each of 8 candidates, totalling 40 fits\n"
     ]
    },
    {
     "name": "stderr",
     "output_type": "stream",
     "text": [
      "[Parallel(n_jobs=-1)]: Using backend LokyBackend with 4 concurrent workers.\n",
      "[Parallel(n_jobs=-1)]: Done  33 tasks      | elapsed:    7.2s\n",
      "[Parallel(n_jobs=-1)]: Done  40 out of  40 | elapsed:    8.5s finished\n"
     ]
    },
    {
     "data": {
      "text/plain": [
       "{'C': 20, 'gamma': 50}"
      ]
     },
     "execution_count": 265,
     "metadata": {},
     "output_type": "execute_result"
    }
   ],
   "source": [
    "from sklearn.svm import SVC\n",
    "\n",
    "parameters = {\n",
    "    'C':[5, 10, 20, 50],    #for linear, tested[0.001, 0.01, 0.1, 1, 5]  #for rbf, test [0.01, 0.5, 0.1, 1, 5, 10, 20, 50, 100, 200, 500, 1500]\n",
    "    'gamma': [20, 50, 80]  #for rbf, test [0.01, 0.1, 0.5, 1, 10, 50, 100, 150]\n",
    "}\n",
    "\n",
    "svc_clf = Pipeline([('CV', GridSearchCV(SVC(random_state=13, kernel=\"rbf\"), parameters, cv=5, scoring=\"f1\", n_jobs=-1, verbose=2))])\n",
    "svc_clf.fit(X_train_scaled, y_train)\n",
    "svc_clf.named_steps['CV'].best_params_\n",
    "\n",
    "#svc_clf = SVC(random_state=13 , kernel=\"linear\", class_weight = \"balanced\") #solver - defaults is 'adam'\n",
    "#grid_values = {'C': [0.04, 0.05, 0.1, 0.5, 1, 5, 20, 40]} #also tried this combination [0.01, 0.1, 1, 5] when not using class_weight and the best param was 0.01 \n",
    "#               \n",
    "#\n",
    "## metric to optimize over grid parameters: AUC\n",
    "#grid_clf_auc = GridSearchCV(clf1, param_grid = grid_values, scoring = \"roc_auc\")\n",
    "#grid_clf_auc.fit(X_train_scaled, y_train)"
   ]
  },
  {
   "cell_type": "code",
   "execution_count": 266,
   "metadata": {},
   "outputs": [
    {
     "name": "stderr",
     "output_type": "stream",
     "text": [
      "[Parallel(n_jobs=-1)]: Using backend LokyBackend with 4 concurrent workers.\n",
      "[Parallel(n_jobs=-1)]: Done  10 out of  10 | elapsed:    3.1s finished\n"
     ]
    },
    {
     "data": {
      "text/plain": [
       "0.9636242183243647"
      ]
     },
     "execution_count": 266,
     "metadata": {},
     "output_type": "execute_result"
    }
   ],
   "source": [
    "svc = Pipeline([('svc', SVC(random_state=13, C = 20, gamma=50, kernel=\"rbf\"))])   #class_weight = \"balanced\"\n",
    "svc_scores = cross_val_score(svc, X_train_scaled, y_train, cv=10, scoring=\"f1\", n_jobs=-1, verbose=2)\n",
    "np.mean(svc_scores)"
   ]
  },
  {
   "cell_type": "code",
   "execution_count": null,
   "metadata": {},
   "outputs": [],
   "source": []
  },
  {
   "cell_type": "code",
   "execution_count": null,
   "metadata": {},
   "outputs": [],
   "source": []
  },
  {
   "cell_type": "markdown",
   "metadata": {},
   "source": [
    "### Testing SVC model with the test set"
   ]
  },
  {
   "cell_type": "code",
   "execution_count": 267,
   "metadata": {},
   "outputs": [
    {
     "data": {
      "text/plain": [
       "Pipeline(steps=[('svc', SVC(C=20, gamma=50, random_state=13))])"
      ]
     },
     "execution_count": 267,
     "metadata": {},
     "output_type": "execute_result"
    }
   ],
   "source": [
    "svc.fit(X_train_scaled, y_train)"
   ]
  },
  {
   "cell_type": "code",
   "execution_count": 268,
   "metadata": {},
   "outputs": [],
   "source": [
    "y_pred = svc.predict(X_test_scaled)"
   ]
  },
  {
   "cell_type": "code",
   "execution_count": 269,
   "metadata": {},
   "outputs": [
    {
     "data": {
      "text/plain": [
       "array([0.90704801, 0.30534351])"
      ]
     },
     "execution_count": 269,
     "metadata": {},
     "output_type": "execute_result"
    }
   ],
   "source": [
    "from sklearn.metrics import f1_score\n",
    "\n",
    "f1_score(y_test, y_pred, average=None)"
   ]
  },
  {
   "cell_type": "code",
   "execution_count": null,
   "metadata": {},
   "outputs": [],
   "source": []
  },
  {
   "cell_type": "markdown",
   "metadata": {},
   "source": [
    "### Testing RandomForestClassifier model with the test set"
   ]
  },
  {
   "cell_type": "code",
   "execution_count": 207,
   "metadata": {
    "scrolled": true
   },
   "outputs": [
    {
     "data": {
      "text/plain": [
       "Pipeline(steps=[('rf', RandomForestClassifier(max_depth=30, n_estimators=20))])"
      ]
     },
     "execution_count": 207,
     "metadata": {},
     "output_type": "execute_result"
    }
   ],
   "source": [
    "rf.fit(X_train_scaled, y_train)"
   ]
  },
  {
   "cell_type": "code",
   "execution_count": 208,
   "metadata": {
    "scrolled": true
   },
   "outputs": [],
   "source": [
    "y_pred = rf.predict(X_test_scaled)"
   ]
  },
  {
   "cell_type": "code",
   "execution_count": 209,
   "metadata": {},
   "outputs": [
    {
     "data": {
      "text/plain": [
       "array([0.91880342, 0.56321839])"
      ]
     },
     "execution_count": 209,
     "metadata": {},
     "output_type": "execute_result"
    }
   ],
   "source": [
    "from sklearn.metrics import confusion_matrix\n",
    "from sklearn.metrics import f1_score\n",
    "\n",
    "f1_score(y_test, y_pred, average=None)\n",
    "#confusion_matrix(y_test, y_pred)"
   ]
  },
  {
   "cell_type": "code",
   "execution_count": null,
   "metadata": {},
   "outputs": [],
   "source": []
  },
  {
   "cell_type": "code",
   "execution_count": 60,
   "metadata": {},
   "outputs": [],
   "source": [
    "#sl_df1 = pd.merge(SH1_df, df_attr[['track', 'artists']], how='inner', on=['track', 'artists'])\n",
    "\n",
    "#comb_df1 = comb_df1[comb_df1['danceability'].notnull()]\n",
    "\n",
    "#ax=comb_df1.groupby(['track', 'artists']).size().to_frame('count').reset_index().plot(kind='hist', bins=40)\n",
    "#ax.set_xlim(0,40)"
   ]
  },
  {
   "cell_type": "code",
   "execution_count": 275,
   "metadata": {},
   "outputs": [],
   "source": [
    "df1_freq = SH1_df.groupby(['track', 'artists'])['track'].count().to_frame('count').reset_index()"
   ]
  },
  {
   "cell_type": "code",
   "execution_count": 69,
   "metadata": {},
   "outputs": [],
   "source": [
    "df1 = pd.merge(df1_freq, df_attr, how='inner', on=['track', 'artists'])\n",
    "df1.drop('count', axis=1, inplace=True)"
   ]
  },
  {
   "cell_type": "code",
   "execution_count": 270,
   "metadata": {
    "scrolled": false
   },
   "outputs": [
    {
     "data": {
      "text/html": [
       "<div>\n",
       "<style scoped>\n",
       "    .dataframe tbody tr th:only-of-type {\n",
       "        vertical-align: middle;\n",
       "    }\n",
       "\n",
       "    .dataframe tbody tr th {\n",
       "        vertical-align: top;\n",
       "    }\n",
       "\n",
       "    .dataframe thead th {\n",
       "        text-align: right;\n",
       "    }\n",
       "</style>\n",
       "<table border=\"1\" class=\"dataframe\">\n",
       "  <thead>\n",
       "    <tr style=\"text-align: right;\">\n",
       "      <th></th>\n",
       "      <th>track</th>\n",
       "      <th>artists</th>\n",
       "      <th>acousticness</th>\n",
       "      <th>danceability</th>\n",
       "      <th>duration_ms</th>\n",
       "      <th>energy</th>\n",
       "      <th>explicit</th>\n",
       "      <th>id</th>\n",
       "      <th>instrumentalness</th>\n",
       "      <th>key</th>\n",
       "      <th>liveness</th>\n",
       "      <th>loudness</th>\n",
       "      <th>mode</th>\n",
       "      <th>popularity</th>\n",
       "      <th>release_date</th>\n",
       "      <th>speechiness</th>\n",
       "      <th>tempo</th>\n",
       "      <th>valence</th>\n",
       "      <th>year</th>\n",
       "    </tr>\n",
       "  </thead>\n",
       "  <tbody>\n",
       "    <tr>\n",
       "      <th>0</th>\n",
       "      <td>...Baby One More Time</td>\n",
       "      <td>Britney Spears</td>\n",
       "      <td>0.1850</td>\n",
       "      <td>0.757</td>\n",
       "      <td>211160</td>\n",
       "      <td>0.725</td>\n",
       "      <td>0</td>\n",
       "      <td>7EFVJfuaqhIIvzNHZpEpth</td>\n",
       "      <td>0.000056</td>\n",
       "      <td>0</td>\n",
       "      <td>0.568</td>\n",
       "      <td>-4.860</td>\n",
       "      <td>0</td>\n",
       "      <td>38</td>\n",
       "      <td>2004</td>\n",
       "      <td>0.0315</td>\n",
       "      <td>92.960</td>\n",
       "      <td>0.883</td>\n",
       "      <td>2004</td>\n",
       "    </tr>\n",
       "    <tr>\n",
       "      <th>1</th>\n",
       "      <td>...Baby One More Time</td>\n",
       "      <td>Britney Spears</td>\n",
       "      <td>0.2020</td>\n",
       "      <td>0.759</td>\n",
       "      <td>211067</td>\n",
       "      <td>0.699</td>\n",
       "      <td>0</td>\n",
       "      <td>3MjUtNVVq3C8Fn0MP3zhXa</td>\n",
       "      <td>0.000131</td>\n",
       "      <td>0</td>\n",
       "      <td>0.443</td>\n",
       "      <td>-5.745</td>\n",
       "      <td>0</td>\n",
       "      <td>77</td>\n",
       "      <td>1999-01-12</td>\n",
       "      <td>0.0307</td>\n",
       "      <td>92.960</td>\n",
       "      <td>0.907</td>\n",
       "      <td>1999</td>\n",
       "    </tr>\n",
       "    <tr>\n",
       "      <th>2</th>\n",
       "      <td>...Ready For It?</td>\n",
       "      <td>Taylor Swift</td>\n",
       "      <td>0.0527</td>\n",
       "      <td>0.613</td>\n",
       "      <td>208187</td>\n",
       "      <td>0.764</td>\n",
       "      <td>0</td>\n",
       "      <td>2yLa0QULdQr0qAIvVwN6B5</td>\n",
       "      <td>0.000000</td>\n",
       "      <td>2</td>\n",
       "      <td>0.197</td>\n",
       "      <td>-6.509</td>\n",
       "      <td>1</td>\n",
       "      <td>71</td>\n",
       "      <td>2017-11-10</td>\n",
       "      <td>0.1360</td>\n",
       "      <td>160.015</td>\n",
       "      <td>0.417</td>\n",
       "      <td>2017</td>\n",
       "    </tr>\n",
       "    <tr>\n",
       "      <th>3</th>\n",
       "      <td>17</td>\n",
       "      <td>Julia Michaels</td>\n",
       "      <td>0.4580</td>\n",
       "      <td>0.774</td>\n",
       "      <td>182800</td>\n",
       "      <td>0.466</td>\n",
       "      <td>0</td>\n",
       "      <td>0ND8rF8oirMXtE59n585P6</td>\n",
       "      <td>0.000000</td>\n",
       "      <td>4</td>\n",
       "      <td>0.111</td>\n",
       "      <td>-6.869</td>\n",
       "      <td>1</td>\n",
       "      <td>73</td>\n",
       "      <td>2019-06-28</td>\n",
       "      <td>0.0433</td>\n",
       "      <td>97.975</td>\n",
       "      <td>0.396</td>\n",
       "      <td>2019</td>\n",
       "    </tr>\n",
       "    <tr>\n",
       "      <th>4</th>\n",
       "      <td>18</td>\n",
       "      <td>One Direction</td>\n",
       "      <td>0.2200</td>\n",
       "      <td>0.681</td>\n",
       "      <td>248360</td>\n",
       "      <td>0.582</td>\n",
       "      <td>0</td>\n",
       "      <td>3JjnGLK8IxkNLvo8Lb3KOM</td>\n",
       "      <td>0.000000</td>\n",
       "      <td>6</td>\n",
       "      <td>0.119</td>\n",
       "      <td>-7.760</td>\n",
       "      <td>0</td>\n",
       "      <td>79</td>\n",
       "      <td>2014-11-17</td>\n",
       "      <td>0.0313</td>\n",
       "      <td>124.038</td>\n",
       "      <td>0.221</td>\n",
       "      <td>2014</td>\n",
       "    </tr>\n",
       "  </tbody>\n",
       "</table>\n",
       "</div>"
      ],
      "text/plain": [
       "                   track         artists  acousticness  danceability  \\\n",
       "0  ...Baby One More Time  Britney Spears        0.1850         0.757   \n",
       "1  ...Baby One More Time  Britney Spears        0.2020         0.759   \n",
       "2       ...Ready For It?    Taylor Swift        0.0527         0.613   \n",
       "3                     17  Julia Michaels        0.4580         0.774   \n",
       "4                     18   One Direction        0.2200         0.681   \n",
       "\n",
       "   duration_ms  energy  explicit                      id  instrumentalness  \\\n",
       "0       211160   0.725         0  7EFVJfuaqhIIvzNHZpEpth          0.000056   \n",
       "1       211067   0.699         0  3MjUtNVVq3C8Fn0MP3zhXa          0.000131   \n",
       "2       208187   0.764         0  2yLa0QULdQr0qAIvVwN6B5          0.000000   \n",
       "3       182800   0.466         0  0ND8rF8oirMXtE59n585P6          0.000000   \n",
       "4       248360   0.582         0  3JjnGLK8IxkNLvo8Lb3KOM          0.000000   \n",
       "\n",
       "   key  liveness  loudness  mode  popularity release_date  speechiness  \\\n",
       "0    0     0.568    -4.860     0          38         2004       0.0315   \n",
       "1    0     0.443    -5.745     0          77   1999-01-12       0.0307   \n",
       "2    2     0.197    -6.509     1          71   2017-11-10       0.1360   \n",
       "3    4     0.111    -6.869     1          73   2019-06-28       0.0433   \n",
       "4    6     0.119    -7.760     0          79   2014-11-17       0.0313   \n",
       "\n",
       "     tempo  valence  year  \n",
       "0   92.960    0.883  2004  \n",
       "1   92.960    0.907  1999  \n",
       "2  160.015    0.417  2017  \n",
       "3   97.975    0.396  2019  \n",
       "4  124.038    0.221  2014  "
      ]
     },
     "execution_count": 270,
     "metadata": {},
     "output_type": "execute_result"
    }
   ],
   "source": [
    "df1.head(5)"
   ]
  }
 ],
 "metadata": {
  "kernelspec": {
   "display_name": "Python 3",
   "language": "python",
   "name": "python3"
  },
  "language_info": {
   "codemirror_mode": {
    "name": "ipython",
    "version": 3
   },
   "file_extension": ".py",
   "mimetype": "text/x-python",
   "name": "python",
   "nbconvert_exporter": "python",
   "pygments_lexer": "ipython3",
   "version": "3.7.7"
  }
 },
 "nbformat": 4,
 "nbformat_minor": 4
}
